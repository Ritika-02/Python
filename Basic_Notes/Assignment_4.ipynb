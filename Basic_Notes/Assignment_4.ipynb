{
  "metadata": {
    "language_info": {
      "codemirror_mode": {
        "name": "python",
        "version": 3
      },
      "file_extension": ".py",
      "mimetype": "text/x-python",
      "name": "python",
      "nbconvert_exporter": "python",
      "pygments_lexer": "ipython3",
      "version": "3.8"
    },
    "kernelspec": {
      "name": "python",
      "display_name": "Python (Pyodide)",
      "language": "python"
    }
  },
  "nbformat_minor": 4,
  "nbformat": 4,
  "cells": [
    {
      "cell_type": "markdown",
      "source": "ASSIGNMENT_4",
      "metadata": {}
    },
    {
      "cell_type": "markdown",
      "source": "1)What exactly is []?\n--> The empty list represented by [] is a list that contains no items. This is similar to '' which represents an empty string.",
      "metadata": {}
    },
    {
      "cell_type": "markdown",
      "source": "2)In a list of values stored in a variable called spam, how would you assign the value 'hello' as the third value? (Assume [2, 4, 6, 8, 10] are in spam.)\n\n-->\n",
      "metadata": {}
    },
    {
      "cell_type": "code",
      "source": "spam = [2, 4, 6, 8, 10]\nprint(spam)\nspam[2]='hello' \nprint(spam)",
      "metadata": {
        "trusted": true
      },
      "execution_count": 1,
      "outputs": [
        {
          "name": "stdout",
          "text": "[2, 4, 6, 8, 10]\n[2, 4, 'hello', 8, 10]\n",
          "output_type": "stream"
        }
      ]
    },
    {
      "cell_type": "markdown",
      "source": "Let's pretend the spam includes the list ['a', 'b', 'c', 'd'] for the next three queries.",
      "metadata": {}
    },
    {
      "cell_type": "markdown",
      "source": "3)What is the value of spam[int(int('3' * 2) / 11)]?\n\n-->Here, '3' * 2 is the string '33', which is passed to int() before being divided by 11. This will evaluate to 3.\n   spam[3] is qual to \"d\".",
      "metadata": {}
    },
    {
      "cell_type": "code",
      "source": "spam = ['a', 'b', 'c', 'd']\nprint(spam[int(int('3' * 2) / 11)])",
      "metadata": {
        "trusted": true
      },
      "execution_count": 2,
      "outputs": [
        {
          "name": "stdout",
          "text": "d\n",
          "output_type": "stream"
        }
      ]
    },
    {
      "cell_type": "code",
      "source": "#4)What is the value of spam[-1]?\n\nspam = ['a', 'b', 'c', 'd']\nprint(spam[-1])",
      "metadata": {
        "trusted": true
      },
      "execution_count": 3,
      "outputs": [
        {
          "name": "stdout",
          "text": "d\n",
          "output_type": "stream"
        }
      ]
    },
    {
      "cell_type": "code",
      "source": "#5)What is the value of spam[:2]?\n\nspam = ['a', 'b', 'c', 'd']\nprint(spam[:2])",
      "metadata": {
        "trusted": true
      },
      "execution_count": 4,
      "outputs": [
        {
          "name": "stdout",
          "text": "['a', 'b']\n",
          "output_type": "stream"
        }
      ]
    },
    {
      "cell_type": "markdown",
      "source": "Let's pretend bacon has the list [3.14, 'cat,' 11, 'cat,' True] for the next three questions.",
      "metadata": {}
    },
    {
      "cell_type": "code",
      "source": "#6)What is the value of bacon.index('cat')?\n\nbacon =[3.14, 'cat', 11, 'cat', True]\nprint(bacon.index('cat'))",
      "metadata": {
        "trusted": true
      },
      "execution_count": 7,
      "outputs": [
        {
          "name": "stdout",
          "text": "1\n",
          "output_type": "stream"
        }
      ]
    },
    {
      "cell_type": "markdown",
      "source": "7)How does bacon.append(99) change the look of the list value in bacon?\n\n--> Append method adds new element to the end of the list.",
      "metadata": {}
    },
    {
      "cell_type": "code",
      "source": "\nbacon.append(99)\nprint(bacon)",
      "metadata": {
        "trusted": true
      },
      "execution_count": 8,
      "outputs": [
        {
          "name": "stdout",
          "text": "[3.14, 'cat', 11, 'cat', True, 99]\n",
          "output_type": "stream"
        }
      ]
    },
    {
      "cell_type": "markdown",
      "source": "8)How does bacon.remove('cat') change the look of the list in bacon?\n\n-->remove method removes the first occurence of the element in the list.",
      "metadata": {}
    },
    {
      "cell_type": "code",
      "source": "print(bacon)\nbacon.remove('cat')\nprint(\"List after removal :\",bacon)",
      "metadata": {
        "trusted": true
      },
      "execution_count": 9,
      "outputs": [
        {
          "name": "stdout",
          "text": "[3.14, 'cat', 11, 'cat', True, 99]\nList after removal : [3.14, 11, 'cat', True, 99]\n",
          "output_type": "stream"
        }
      ]
    },
    {
      "cell_type": "markdown",
      "source": "9)What are the list concatenation and list replication operators?\n\n-->The operator for list concatenation is +, while the operator for replication is *. ",
      "metadata": {}
    },
    {
      "cell_type": "code",
      "source": "L1 = [1, 2, 3, 4]\nL2 = ['a', 'b', 'c', 'd']\n#List Concatenation\nprint(\"List Concatenation\",L1 +L2)\n\n#List Replication\nprint(\"List Relication\",L2 * 2)",
      "metadata": {
        "trusted": true
      },
      "execution_count": 11,
      "outputs": [
        {
          "name": "stdout",
          "text": "List Concatenation [1, 2, 3, 4, 'a', 'b', 'c', 'd']\nList Relication ['a', 'b', 'c', 'd', 'a', 'b', 'c', 'd']\n",
          "output_type": "stream"
        }
      ]
    },
    {
      "cell_type": "markdown",
      "source": "10)What is difference between the list methods append() and insert()?\n\n-->append() will add values only to the end of a list, insert() can add them anywhere in the list.",
      "metadata": {}
    },
    {
      "cell_type": "code",
      "source": "L1 = [1, 2, 3, 4]\nL1.append(5)\nprint(L1)\n\nL1.insert(1,'Hi')\nprint(L1)",
      "metadata": {
        "trusted": true
      },
      "execution_count": 12,
      "outputs": [
        {
          "name": "stdout",
          "text": "[1, 2, 3, 4, 5]\n[1, 'Hi', 2, 3, 4, 5]\n",
          "output_type": "stream"
        }
      ]
    },
    {
      "cell_type": "markdown",
      "source": "11)What are the two methods for removing items from a list?\n\n--> The del statement and the remove() method are two ways to remove values from a list.",
      "metadata": {}
    },
    {
      "cell_type": "markdown",
      "source": "12)Describe how list values and string values are identical.\n\n-->Both lists and strings can be passed to len() function, have indexes and slices, be used in for loops, be concatenated or replicated, and be used with the in and not in operators.\n",
      "metadata": {}
    },
    {
      "cell_type": "markdown",
      "source": "13)What's the difference between tuples and lists?\n\n-->Lists are Mutable(values can be added, removed or changed), Indexable and Slicable.\n   List are represented using square brackets [].\n   \n   Tuples are Immutable but Indexable and Slicable.The values within tuple cannot be changed at all.\n   Tuples are  represented using parenthesis ().  \n",
      "metadata": {}
    },
    {
      "cell_type": "markdown",
      "source": "14) How do you type a tuple value that only contains the integer 42?\n\n-->(42,) (The trailing comma is mandatory. otherwise its considered as a int by python Interpreter)",
      "metadata": {}
    },
    {
      "cell_type": "code",
      "source": "tup_1 = (42)\nprint(\"tup_1 :\",type(tup_1))\n\ntup_2 =(42,)\nprint(\"tup_2 :\",type(tup_2))",
      "metadata": {
        "trusted": true
      },
      "execution_count": 15,
      "outputs": [
        {
          "name": "stdout",
          "text": "tup_1 : <class 'int'>\ntup_2 : <class 'tuple'>\n",
          "output_type": "stream"
        }
      ]
    },
    {
      "cell_type": "markdown",
      "source": "15)How do you get a list value's tuple form? How do you get a tuple value's list form?\n\n-->The tuple() and list() functions, respectively are used to convert a list to tuple and vice versa.",
      "metadata": {}
    },
    {
      "cell_type": "markdown",
      "source": "16). Variables that \"contain\" list values are not necessarily lists themselves. Instead, what do they contain?\n\n-->They contain references to list values.",
      "metadata": {}
    },
    {
      "cell_type": "markdown",
      "source": "17)How do you distinguish between copy.copy() and copy.deepcopy()?\n\n-->The copy.copy() function will do a shallow copy of a list, while the copy.deepcopy() function will do a deep copy of a list. That is, only copy.deepcopy() will duplicate any lists inside the list.",
      "metadata": {}
    }
  ]
}