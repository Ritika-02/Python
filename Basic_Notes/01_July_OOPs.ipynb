{
 "cells": [
  {
   "cell_type": "markdown",
   "metadata": {},
   "source": [
    "## 1 July OOPs"
   ]
  },
  {
   "cell_type": "markdown",
   "metadata": {},
   "source": [
    " 1) What is the primary goal of Object-Oriented Programming (OOP)?\n",
    "\n",
    " --> The primary goal of Object-Oriented Programming (OOP) is to provide a typical programming model that promotes reusable and maintainable code by organizing it around objects. The key concepts in OOP include objects, classes, inheritance, etc."
   ]
  },
  {
   "cell_type": "markdown",
   "metadata": {},
   "source": [
    "2) What is an object in Python?\n",
    "\n",
    "-->An object is an instance of a class. It is a fundamental concept in OOPs. An object includes both data (attributes) and behavior (methods) related to that entity.\n"
   ]
  },
  {
   "cell_type": "markdown",
   "metadata": {},
   "source": [
    "3)  What is a class in Python?\n",
    "\n",
    "-->A class is a blueprint for creating objects. It serves as a logical structure that defines the data (attributes) and behavior (method) that  an objects of that class will possess. A class is defined using the class keyword followed by the name of the class."
   ]
  },
  {
   "cell_type": "code",
   "execution_count": 3,
   "metadata": {},
   "outputs": [],
   "source": [
    "class Student:\n",
    "    def __init__(self,name,roll_no):\n",
    "        self.name = name\n",
    "        self.roll_no = roll_no\n",
    "\n",
    "    def myself(self):\n",
    "        print(f\"Good Morning, My name is {self.name} and my roll_no is {self.roll_no}\")\n",
    "        "
   ]
  },
  {
   "cell_type": "code",
   "execution_count": 5,
   "metadata": {},
   "outputs": [
    {
     "name": "stdout",
     "output_type": "stream",
     "text": [
      "Good Morning, My name is Jack and my roll_no is 1\n"
     ]
    }
   ],
   "source": [
    "student1 =Student('Jack',1)\n",
    "student1.myself()"
   ]
  },
  {
   "cell_type": "markdown",
   "metadata": {},
   "source": [
    "4) What are attributes and methods in a class?\n",
    "\n",
    "--> Attributes :\n",
    "    Attributes are the variables associated with a class or its instances. They represent the data of an object.\n",
    "\n",
    "    Methods :\n",
    "    Methods are functions defined within a class that define the behavior of objects created from that class.\n"
   ]
  },
  {
   "cell_type": "markdown",
   "metadata": {},
   "source": [
    "5) What is the difference between class variables and instance variables in Python?\n",
    "\n",
    "--> Class Variable :\n",
    "    Class variables are defined within the class but outside any methods. They are shared among all instances of the class.\n",
    "\n",
    "    Instance Variable :\n",
    "    Instance variables are defined within methods or the class __init__ method. They are unique to each instance of the class.\n"
   ]
  },
  {
   "cell_type": "markdown",
   "metadata": {},
   "source": [
    "6) What is the purpose of the self parameter in Python class methods?\n",
    "\n",
    "-->The purpose of the self parameter is to allow access to the instance's attributes and methods within the class. When a method is called on an instance of a class, the instance is automatically passed as the first argument to the method, and by convention, this argument is named self."
   ]
  },
  {
   "cell_type": "markdown",
   "metadata": {},
   "source": [
    "7) For a library management system, you have to design the \"Book\" class with OOP\n",
    "principles in mind. The “Book” class will have following attributes:\n",
    "a. title: Represents the title of the book.\n",
    "b. author: Represents the author(s) of the book.\n",
    "c. isbn: Represents the ISBN (International Standard Book Number) of the book.\n",
    "d. publication_year: Represents the year of publication of the book.\n",
    "e. available_copies: Represents the number of copies available for checkout.\n",
    "The class will also include the following methods:\n",
    "a. check_out(self): Decrements the available copies by one if there are copies available for checkout.\n",
    "b. return_book(self): Increments the available copies by one when a book is returned.\n",
    "c. display_book_info(self): Displays the information about the book, including its attributes and the number of available copies.\n"
   ]
  },
  {
   "cell_type": "code",
   "execution_count": 1,
   "metadata": {},
   "outputs": [],
   "source": [
    "class Book:\n",
    "    def __init__(self, title, author, isbn, publication_year, available_copies):\n",
    "        self.title = title\n",
    "        self.author = author\n",
    "        self.isbn = isbn\n",
    "        self.publication_yr = publication_year\n",
    "        self.available_copies = available_copies\n",
    "\n",
    "    def check_out(self):\n",
    "        if self.available_copies > 0:\n",
    "            self.available_copies -= 1\n",
    "            print(f\"The book {self.title} as checked out\")\n",
    "        else:\n",
    "            print(f\"The book {self.title} is not available\")\n",
    "\n",
    "    def return_book(self):\n",
    "        self.available_copies +=1\n",
    "        print(f\"The book {self.title} has been returned\")\n",
    "\n",
    "    def display_book_info(self):\n",
    "        print(f\"title :{self.title}\")\n",
    "        print(f\"author :{self.author}\")\n",
    "        print(f\"isbn :{self.isbn}\")\n",
    "        print(f\"publication_year :{self.publication_yr}\")\n",
    "        print(f\"available_copies:{self.available_copies}\")"
   ]
  },
  {
   "cell_type": "code",
   "execution_count": 5,
   "metadata": {},
   "outputs": [],
   "source": [
    "book1 = Book('Adventures of Sherlock Holmes','Dr Arther',1125587,2015,1)"
   ]
  },
  {
   "cell_type": "code",
   "execution_count": 6,
   "metadata": {},
   "outputs": [
    {
     "name": "stdout",
     "output_type": "stream",
     "text": [
      "The book Adventures of Sherlock Holmes as checked out\n"
     ]
    }
   ],
   "source": [
    "book1.check_out()"
   ]
  },
  {
   "cell_type": "code",
   "execution_count": 7,
   "metadata": {},
   "outputs": [
    {
     "name": "stdout",
     "output_type": "stream",
     "text": [
      "The book Adventures of Sherlock Holmes is not available\n"
     ]
    }
   ],
   "source": [
    "book1.check_out()"
   ]
  },
  {
   "cell_type": "code",
   "execution_count": 8,
   "metadata": {},
   "outputs": [
    {
     "name": "stdout",
     "output_type": "stream",
     "text": [
      "The book Adventures of Sherlock Holmes has been returned\n"
     ]
    }
   ],
   "source": [
    "book1.return_book()"
   ]
  },
  {
   "cell_type": "code",
   "execution_count": 9,
   "metadata": {},
   "outputs": [
    {
     "name": "stdout",
     "output_type": "stream",
     "text": [
      "The book Adventures of Sherlock Holmes as checked out\n"
     ]
    }
   ],
   "source": [
    "book1.check_out()"
   ]
  },
  {
   "cell_type": "code",
   "execution_count": 10,
   "metadata": {},
   "outputs": [
    {
     "name": "stdout",
     "output_type": "stream",
     "text": [
      "title :Adventures of Sherlock Holmes\n",
      "author :Dr Arther\n",
      "isbn :1125587\n",
      "publication_year :2015\n",
      "available_copies:0\n"
     ]
    }
   ],
   "source": [
    "book1.display_book_info()"
   ]
  },
  {
   "cell_type": "code",
   "execution_count": null,
   "metadata": {},
   "outputs": [],
   "source": []
  },
  {
   "cell_type": "markdown",
   "metadata": {},
   "source": [
    "8) For a ticket booking system, you have to design the \"Ticket\" class with OOP\n",
    "principles in mind. The “Ticket” class should have the following attributes:\n",
    "a. ticket_id: Represents the unique identifier for the ticket.\n",
    "b. event_name: Represents the name of the event.\n",
    "c. event_date: Represents the date of the event.\n",
    "d. venue: Represents the venue of the event.\n",
    "e. seat_number: Represents the seat number associated with the ticket.\n",
    "f. price: Represents the price of the ticket.\n",
    "g. is_reserved: Represents the reservation status of the ticket.\n",
    "The class also includes the following methods:\n",
    "a. reserve_ticket(self): Marks the ticket as reserved if it is not already reserved.\n",
    "b. cancel_reservation(self): Cancels the reservation of the ticket if it is already\n",
    "reserved.\n",
    "c. display_ticket_info(self): Displays the information about the ticket, including its\n",
    "attributes and reservation status."
   ]
  },
  {
   "cell_type": "code",
   "execution_count": 20,
   "metadata": {},
   "outputs": [],
   "source": [
    "class Ticket:\n",
    "    def __init__(self,ticket_id, event_name, event_date, venue, seat_number, price):\n",
    "        self.id = ticket_id\n",
    "        self.name = event_name\n",
    "        self.date = event_date\n",
    "        self.venue = venue\n",
    "        self.seat_no = seat_number\n",
    "        self.price = price\n",
    "        self.is_reserved = False\n",
    "\n",
    "    def reserve_ticket(self):\n",
    "        if not self.is_reserved:\n",
    "            self.is_reserved = True\n",
    "            print(f\"Ticket is reserved for {self.name}, seat number {self.seat_no}\")\n",
    "        else:\n",
    "            print(f\"Already reserved seat number {self.seat_no}\")\n",
    "\n",
    "    def cancel_reservation(self):\n",
    "        if self.is_reserved:\n",
    "            self.is_reserved = False\n",
    "            print(f\"Reservation is cancelled for {self.seat_no} of event {self.name}\")\n",
    "        else:\n",
    "            print(f\"The {self.seat_no} is not occupied\")\n",
    "\n",
    "    \n",
    "    def display_ticket_info(self):\n",
    "        print(f\"Ticket id : {self.id}\")\n",
    "        print(f\"Event name : {self.name}\")\n",
    "        print(f\"Event date : {self.date}\")\n",
    "        print(f\"Venue : {self.venue}\")\n",
    "        print(f\"Seat Number : {self.seat_no}\")\n",
    "        print(f\"Price : {self.price}\")\n",
    "        print(f\"Reservation status :\", \"Reserved\" if self.is_reserved else \"Not Reserved\")\n",
    "\n"
   ]
  },
  {
   "cell_type": "code",
   "execution_count": 21,
   "metadata": {},
   "outputs": [],
   "source": [
    "ticket1 = Ticket(12,'Generative AI', '06.09.23','Auditorium',50,500)"
   ]
  },
  {
   "cell_type": "code",
   "execution_count": 22,
   "metadata": {},
   "outputs": [
    {
     "name": "stdout",
     "output_type": "stream",
     "text": [
      "Ticket is reserved for Generative AI, seat number 50\n"
     ]
    }
   ],
   "source": [
    "ticket1.reserve_ticket()"
   ]
  },
  {
   "cell_type": "code",
   "execution_count": 23,
   "metadata": {},
   "outputs": [
    {
     "name": "stdout",
     "output_type": "stream",
     "text": [
      "Already reserved seat number 50\n"
     ]
    }
   ],
   "source": [
    "ticket1.reserve_ticket()"
   ]
  },
  {
   "cell_type": "code",
   "execution_count": 24,
   "metadata": {},
   "outputs": [
    {
     "name": "stdout",
     "output_type": "stream",
     "text": [
      "Reservation is cancelled for 50 of event Generative AI\n"
     ]
    }
   ],
   "source": [
    "ticket1.cancel_reservation()"
   ]
  },
  {
   "cell_type": "code",
   "execution_count": 25,
   "metadata": {},
   "outputs": [
    {
     "name": "stdout",
     "output_type": "stream",
     "text": [
      "Ticket id : 12\n",
      "Event name : Generative AI\n",
      "Event date : 06.09.23\n",
      "Venue : Auditorium\n",
      "Seat Number : 50\n",
      "Price : 500\n",
      "Reservation status : Not Reserved\n"
     ]
    }
   ],
   "source": [
    "ticket1.display_ticket_info()"
   ]
  },
  {
   "cell_type": "code",
   "execution_count": null,
   "metadata": {},
   "outputs": [],
   "source": []
  },
  {
   "cell_type": "markdown",
   "metadata": {},
   "source": [
    "9) You are creating a shopping cart for an e-commerce website. Using OOP to model\n",
    "the \"ShoppingCart\" functionality the class should contain following attributes and methods:\n",
    "a. items: Represents the list of items in the shopping cart.\n",
    "The class also includes the following methods:\n",
    "a. add_item(self, item): Adds an item to the shopping cart by appending it to the list of items.\n",
    "b. remove_item(self, item): Removes an item from the shopping cart if it exists in the list.\n",
    "c. view_cart(self): Displays the items currently present in the shopping cart.\n",
    "d. clear_cart(self): Clears all items from the shopping cart by reassigning an empty list to the items attribute.\n"
   ]
  },
  {
   "cell_type": "code",
   "execution_count": 32,
   "metadata": {},
   "outputs": [],
   "source": [
    "class ShoppingCart:\n",
    "    def __init__(self,items):\n",
    "        self.items = items\n",
    "\n",
    "    def add_item(self,items):\n",
    "        self.items.append(items)\n",
    "        print(f'The {items} has been added to your Shopping Cart .')\n",
    "\n",
    "    def remove_item(self,items):\n",
    "        self.items.remove(items)\n",
    "        print(f\"The {items} has been removed from your cart !!\")\n",
    "\n",
    "    def view_cart(self):\n",
    "        print(f\"The Cart contains following item :\")\n",
    "        for items in self.items:\n",
    "            print(items)\n",
    "\n",
    "    def clear_cart(self):\n",
    "        self.items=[]\n",
    "        print(\"The Cart is cleared .!\")"
   ]
  },
  {
   "cell_type": "code",
   "execution_count": 33,
   "metadata": {},
   "outputs": [],
   "source": [
    "cart = ShoppingCart(['Mango Pulp','Cadbury','Biscuit','Tomato Ketchup'])"
   ]
  },
  {
   "cell_type": "code",
   "execution_count": 34,
   "metadata": {},
   "outputs": [
    {
     "name": "stdout",
     "output_type": "stream",
     "text": [
      "The milk has been added to your Shopping Cart .\n"
     ]
    }
   ],
   "source": [
    "cart.add_item('milk')"
   ]
  },
  {
   "cell_type": "code",
   "execution_count": 35,
   "metadata": {},
   "outputs": [
    {
     "name": "stdout",
     "output_type": "stream",
     "text": [
      "The Tomato Ketchup has been removed from your cart !!\n"
     ]
    }
   ],
   "source": [
    "cart.remove_item('Tomato Ketchup')"
   ]
  },
  {
   "cell_type": "code",
   "execution_count": 36,
   "metadata": {},
   "outputs": [
    {
     "name": "stdout",
     "output_type": "stream",
     "text": [
      "The Cart contains following item :\n",
      "Mango Pulp\n",
      "Cadbury\n",
      "Biscuit\n",
      "milk\n"
     ]
    }
   ],
   "source": [
    "cart.view_cart()"
   ]
  },
  {
   "cell_type": "code",
   "execution_count": 37,
   "metadata": {},
   "outputs": [
    {
     "name": "stdout",
     "output_type": "stream",
     "text": [
      "The Cart is cleared .!\n"
     ]
    }
   ],
   "source": [
    "cart.clear_cart()"
   ]
  },
  {
   "cell_type": "code",
   "execution_count": null,
   "metadata": {},
   "outputs": [],
   "source": []
  },
  {
   "cell_type": "markdown",
   "metadata": {},
   "source": [
    "10) . Imagine a school management system. You have to design the \"Student\" class using OOP concepts.The “Student” class has the following attributes:\n",
    "a. name: Represents the name of the student.\n",
    "b. age: Represents the age of the student.\n",
    "c. grade: Represents the grade or class of the student.\n",
    "d. student_id: Represents the unique identifier for the student.\n",
    "e. attendance: Represents the attendance record of the student.\n",
    "\n",
    "The class should also include the following methods:\n",
    "a. update_attendance(self, date, status): Updates the attendance record of the student for a given date with the provided status (e.g., present or absent).\n",
    "b. get_attendance(self): Returns the attendance record of the student.\n",
    "c. get_average_attendance(self): Calculates and returns the average attendance percentage of the student based on their attendance record.\n"
   ]
  },
  {
   "cell_type": "code",
   "execution_count": 38,
   "metadata": {},
   "outputs": [],
   "source": [
    "class Student:\n",
    "    def __init__(self,name, age, grade, student_id):\n",
    "        self.name = name\n",
    "        self.age = age\n",
    "        self.grade = grade\n",
    "        self.student_id = student_id\n",
    "        self.attendance ={}\n",
    "\n",
    "    \n",
    "    def update_attendance(self, date, status):\n",
    "        self.attendance[date] = status\n",
    "\n",
    "    def get_attendance(self):\n",
    "        return self.attendance\n",
    "\n",
    "    def get_average_attendance(self):\n",
    "        total = len(self.attendance)\n",
    "        present = sum( 1 for status in self.attendance.values() if status == 'present')\n",
    "        attendance_per = (present / total) * 100 if total > 0 else 0\n",
    "        return attendance_per"
   ]
  },
  {
   "cell_type": "code",
   "execution_count": 39,
   "metadata": {},
   "outputs": [],
   "source": [
    "stud1 = Student('Jack',10,'4th',404)"
   ]
  },
  {
   "cell_type": "code",
   "execution_count": 43,
   "metadata": {},
   "outputs": [],
   "source": [
    "stud1.update_attendance('2023-09-06','absent')\n",
    "stud1.update_attendance('2023-09-07','present')\n",
    "stud1.update_attendance('2023-09-08','present')"
   ]
  },
  {
   "cell_type": "code",
   "execution_count": 44,
   "metadata": {},
   "outputs": [
    {
     "data": {
      "text/plain": [
       "{'2023-09-06': 'absent', '2023-09-07': 'present', '2023-09-08': 'present'}"
      ]
     },
     "execution_count": 44,
     "metadata": {},
     "output_type": "execute_result"
    }
   ],
   "source": [
    "stud1.get_attendance()"
   ]
  },
  {
   "cell_type": "code",
   "execution_count": 45,
   "metadata": {},
   "outputs": [
    {
     "data": {
      "text/plain": [
       "66.66666666666666"
      ]
     },
     "execution_count": 45,
     "metadata": {},
     "output_type": "execute_result"
    }
   ],
   "source": [
    "stud1.get_average_attendance()"
   ]
  },
  {
   "cell_type": "code",
   "execution_count": null,
   "metadata": {},
   "outputs": [],
   "source": []
  }
 ],
 "metadata": {
  "kernelspec": {
   "display_name": "base",
   "language": "python",
   "name": "python3"
  },
  "language_info": {
   "codemirror_mode": {
    "name": "ipython",
    "version": 3
   },
   "file_extension": ".py",
   "mimetype": "text/x-python",
   "name": "python",
   "nbconvert_exporter": "python",
   "pygments_lexer": "ipython3",
   "version": "3.11.3"
  },
  "orig_nbformat": 4
 },
 "nbformat": 4,
 "nbformat_minor": 2
}
