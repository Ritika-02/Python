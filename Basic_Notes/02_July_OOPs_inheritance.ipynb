{
 "cells": [
  {
   "cell_type": "markdown",
   "metadata": {},
   "source": [
    "## 2 July OOPs Inheritance"
   ]
  },
  {
   "cell_type": "markdown",
   "metadata": {},
   "source": [
    "1)Explain what inheritance is in object-oriented programming and why it is used.\n",
    "\n",
    "--> Inheritance is a fundamental concept in object-oriented   programming(OOP) that allows classes to inherit properties and behaviours from other classes. It enables the creation of a hierarchy of classes, where derived classes (child classes) inherit the characteristics of a base class (parent class)."
   ]
  },
  {
   "cell_type": "markdown",
   "metadata": {},
   "source": [
    "2)Discuss the concept of single inheritance and multiple inheritance, highlighting their differences and advantages.\n",
    "\n",
    "--> Single Inheritance :\n",
    "    It allows a class to inherit from only one super class. The child class inherits the attributes and behaviors of its single parent class, allowing code reuse and specialization.\n",
    "\n",
    "    Advantage :\n",
    "    -Simplicity of code\n",
    "    -Avoidance of complexities\n",
    "    -Easy to write\n",
    "\n",
    "\n",
    "    Multiple Inheritance :\n",
    "    It  allows a class to inherit from multiple super classes, i.e., a child class can have multiple direct parent classes. The child class inherits attributes and behaviors from all of its parent classes, effectively combining the features of multiple classes.\n",
    "\n",
    "    Advantage :\n",
    "    -Flexibility of code\n",
    "    -Enhanced functionality\n",
    "    \n"
   ]
  },
  {
   "cell_type": "markdown",
   "metadata": {},
   "source": [
    "3)Explain the terms \"base class\" and \"derived class\" in the context of inheritance.\n",
    "\n",
    "--> Base Class : The class from which other classes inherit. It is at a higher level in the class hierarchy and serves as a template or blueprint for derived classes. A base class defines common attributes and behaviors that are shared among multiple derived classes.\n",
    "\n",
    "    Derived Class :The class that inherits attributes and behaviors from a base class. The derived class extends or specializes the base class by adding its unique attributes and behaviors. The derived class can have its own additional methods, attributes, or override the inherited methods from the base class.\n"
   ]
  },
  {
   "cell_type": "code",
   "execution_count": 2,
   "metadata": {},
   "outputs": [],
   "source": [
    "#Base Class\n",
    "class Vehicle:\n",
    "    def __init__(self,brand):\n",
    "        self.brand = brand\n",
    "\n",
    "    def drive(self):\n",
    "        print(f\"Driving the new {self.brand}\")\n",
    "\n",
    "\n",
    "#Derived Class\n",
    "class Car(Vehicle):\n",
    "    def __init__(self,brand,model):\n",
    "        super().__init__(brand)\n",
    "        self.model = model\n",
    "\n",
    "    def park(self):\n",
    "        print(f\"Parking the {self.brand} car!\")\n",
    "        "
   ]
  },
  {
   "cell_type": "code",
   "execution_count": 4,
   "metadata": {},
   "outputs": [],
   "source": [
    "V1 = Vehicle('Electric Vehicle')\n",
    "c1 = Car(\"Tata \",'Tiago EV')"
   ]
  },
  {
   "cell_type": "code",
   "execution_count": 5,
   "metadata": {},
   "outputs": [
    {
     "name": "stdout",
     "output_type": "stream",
     "text": [
      "Driving the new Electric Vehicle\n",
      "Driving the new Tata \n"
     ]
    }
   ],
   "source": [
    "V1.drive()\n",
    "c1.drive()"
   ]
  },
  {
   "cell_type": "code",
   "execution_count": 6,
   "metadata": {},
   "outputs": [
    {
     "name": "stdout",
     "output_type": "stream",
     "text": [
      "Parking the Tata  car!\n"
     ]
    }
   ],
   "source": [
    "c1.park()"
   ]
  },
  {
   "cell_type": "markdown",
   "metadata": {},
   "source": [
    "4)What is the significance of the \"protected\" access modifier in inheritance? How does it differ from \"private\" and \"public\" modifiers?\n",
    "\n",
    "-->Protected members are accessible within the class and its derived classes.Protected members can be accessed by objects of the derived class but not by objects of unrelated classes.\n",
    "\n",
    "-Private members are accessible only within the class in which they are defined.Private members are not inherited and cannot be accessed by objects of the derived class.\n",
    "\n",
    "-Public members are accessible from anywhere, including outside the class hierarchy.Public members can be accessed by objects of both the base and derived classes."
   ]
  },
  {
   "cell_type": "markdown",
   "metadata": {},
   "source": [
    "5)What is the purpose of the \"super\" keyword in inheritance? Provide an example.\n",
    "\n",
    "-->The \"super\" keyword in inheritance is used to refer to the superclass or base class of the current class. It provides a way to access and invoke the superclass's attributes and methods from within the subclass.\n"
   ]
  },
  {
   "cell_type": "code",
   "execution_count": 3,
   "metadata": {},
   "outputs": [],
   "source": [
    "class Student:\n",
    "    def __init__(self, rollno, name):\n",
    "        self.rollno = rollno\n",
    "        self.name = name\n",
    "\n",
    "class Attendance(Student):\n",
    "    def __init__(self,rollno,name,email):\n",
    "        super().__init__(rollno,name)\n",
    "        self.email =email\n",
    "    "
   ]
  },
  {
   "cell_type": "code",
   "execution_count": 4,
   "metadata": {},
   "outputs": [],
   "source": [
    "S1 = Attendance(22,'Jack','jacknjill@gmail.com')\n"
   ]
  },
  {
   "cell_type": "code",
   "execution_count": 5,
   "metadata": {},
   "outputs": [
    {
     "name": "stdout",
     "output_type": "stream",
     "text": [
      "roll no : 22\n",
      "name : Jack\n",
      "email : jacknjill@gmail.com\n"
     ]
    }
   ],
   "source": [
    "print('roll no :',S1.rollno)\n",
    "print('name :',S1.name)\n",
    "print('email :',S1.email)"
   ]
  },
  {
   "cell_type": "markdown",
   "metadata": {},
   "source": [
    "6)Create a base class called \"Vehicle\" with attributes like \"make\", \"model\", and \"year\". Then, create a derived class called \"Car\" that inherits from \"Vehicle\" and adds an\n",
    "attribute called \"fuel_type\". Implement appropriate methods in both classes.\n"
   ]
  },
  {
   "cell_type": "code",
   "execution_count": 11,
   "metadata": {},
   "outputs": [],
   "source": [
    "class Vehicle:\n",
    "    def __init__(self,make,model,year):\n",
    "        self.make =make\n",
    "        self.model = model\n",
    "        self.year = year\n",
    "\n",
    "    def display_info(self):\n",
    "        return f\"Year {self.year}, Vehicle made was {self.make}{self.model}\"\n",
    "    \n",
    "class Car(Vehicle):\n",
    "    def __init__(self,make,model,year,fuel_type):\n",
    "        super().__init__(make, model, year)\n",
    "        self.fuel_type = fuel_type\n",
    "\n",
    "    def display_info(self):\n",
    "        Vehicle_info = super().display_info()\n",
    "        return f\"{Vehicle_info}, Fuel Type :{self.fuel_type}\""
   ]
  },
  {
   "cell_type": "code",
   "execution_count": 12,
   "metadata": {},
   "outputs": [
    {
     "data": {
      "text/plain": [
       "'Year 2016, Vehicle made was Mahindra Thar, Fuel Type :Diesel'"
      ]
     },
     "execution_count": 12,
     "metadata": {},
     "output_type": "execute_result"
    }
   ],
   "source": [
    "c1 = Car('Mahindra ','Thar',2016,'Diesel')\n",
    "c1.display_info()"
   ]
  },
  {
   "cell_type": "markdown",
   "metadata": {},
   "source": [
    "7)Create a base class called \"Employee\" with attributes like \"name\" and \"salary.\" Derive two classes, \"Manager\" and \"Developer,\" from \"Employee.\" Add an additional attribute called \"department\" for the \"Manager\" class and \"programming_language\" for the \"Developer\" class."
   ]
  },
  {
   "cell_type": "code",
   "execution_count": 13,
   "metadata": {},
   "outputs": [],
   "source": [
    "class Employee:\n",
    "    def __init__(self, name, salary):\n",
    "        self.name = name\n",
    "        self.salary = salary\n",
    "\n",
    "    def display_info(self):\n",
    "        return f\"Name of Employee is {self.name} and Salary {self.salary}\"\n",
    "    \n",
    "class Manager(Employee):\n",
    "    def __init__(self, name, salary, department):\n",
    "        super().__init__(name, salary)\n",
    "        self.department = department\n",
    "\n",
    "    def display_info(self):\n",
    "        employee_info = super().display_info()\n",
    "        return f\"{employee_info}, Department is {self.department}\"\n",
    "    \n",
    "\n",
    "class Developer(Employee):\n",
    "    def __init__(self,name,salary,programming_langauge):\n",
    "        super().__init__(name,salary)\n",
    "        self.programming_language = programming_langauge\n",
    "\n",
    "    def display_info(self):\n",
    "        employee_info = super().display_info()\n",
    "        return f\"{employee_info}, Programming Language : {self.programming_language}\"\n",
    "    "
   ]
  },
  {
   "cell_type": "code",
   "execution_count": 15,
   "metadata": {},
   "outputs": [],
   "source": [
    "M1 = Manager('Jack',50000,'Senior Manager')\n",
    "D1 = Developer('Jill',45000,'Python')\n",
    "\n"
   ]
  },
  {
   "cell_type": "code",
   "execution_count": 18,
   "metadata": {},
   "outputs": [
    {
     "data": {
      "text/plain": [
       "'Name of Employee is Jack and Salary 50000, Department is Senior Manager'"
      ]
     },
     "execution_count": 18,
     "metadata": {},
     "output_type": "execute_result"
    }
   ],
   "source": [
    "M1.display_info()"
   ]
  },
  {
   "cell_type": "code",
   "execution_count": 19,
   "metadata": {},
   "outputs": [
    {
     "data": {
      "text/plain": [
       "'Name of Employee is Jill and Salary 45000, Programming Language : Python'"
      ]
     },
     "execution_count": 19,
     "metadata": {},
     "output_type": "execute_result"
    }
   ],
   "source": [
    "D1.display_info()"
   ]
  },
  {
   "cell_type": "code",
   "execution_count": null,
   "metadata": {},
   "outputs": [],
   "source": []
  },
  {
   "cell_type": "markdown",
   "metadata": {},
   "source": [
    "8)Design a base class called \"Shape\" with attributes like \"colour\" and \"border_width.\" Create derived classes, \"Rectangle\" and \"Circle,\" that inherit from \"Shape\" and add\n",
    "specific attributes like \"length\" and \"width\" for the \"Rectangle\" class and \"radius\" for the \"Circle\" class.\n",
    "\n",
    "-->\n"
   ]
  },
  {
   "cell_type": "code",
   "execution_count": 38,
   "metadata": {},
   "outputs": [],
   "source": [
    "class Shape:\n",
    "    def __init__(self,colour,border_width):\n",
    "        self.colour = colour\n",
    "        self.border_width = border_width\n",
    "\n",
    "    def display_info(self):\n",
    "        return f\"Colour : {self.colour}, Border Width : {self.border_width}\"\n",
    "    \n",
    "class Rectangle(Shape):\n",
    "    def __init__(self,colour,border_width, length, width):\n",
    "        super().__init__(colour, border_width)\n",
    "        self.length = length\n",
    "        self.width = width\n",
    "\n",
    "    def display_info(self):\n",
    "        shape_info = super().display_info()\n",
    "        return f\"{shape_info}, length : {self.length}, width : {self.width}\"\n",
    "    \n",
    "\n",
    "class Circle(Shape):\n",
    "    def __init__(self,colour,border_width, radius):\n",
    "        super().__init__(colour, border_width)\n",
    "        self.radius = radius\n",
    "\n",
    "    def display_info(self):\n",
    "        shape_info = super().display_info()\n",
    "        return f\"{shape_info}, radius : {self.radius}\"\n",
    "    \n"
   ]
  },
  {
   "cell_type": "code",
   "execution_count": 39,
   "metadata": {},
   "outputs": [],
   "source": [
    "R1 = Rectangle('Blue', 5, 7, 15)\n",
    "C1 = Circle('red', 5,8)\n"
   ]
  },
  {
   "cell_type": "code",
   "execution_count": 40,
   "metadata": {},
   "outputs": [
    {
     "data": {
      "text/plain": [
       "'Colour : Blue, Border Width : 5, length : 7, width : 15'"
      ]
     },
     "execution_count": 40,
     "metadata": {},
     "output_type": "execute_result"
    }
   ],
   "source": [
    "R1.display_info()"
   ]
  },
  {
   "cell_type": "code",
   "execution_count": 41,
   "metadata": {},
   "outputs": [
    {
     "data": {
      "text/plain": [
       "'Colour : red, Border Width : 5, radius : 8'"
      ]
     },
     "execution_count": 41,
     "metadata": {},
     "output_type": "execute_result"
    }
   ],
   "source": [
    "C1.display_info()"
   ]
  },
  {
   "cell_type": "code",
   "execution_count": null,
   "metadata": {},
   "outputs": [],
   "source": []
  },
  {
   "cell_type": "markdown",
   "metadata": {},
   "source": [
    "9)Create a base class called \"Device\" with attributes like \"brand\" and \"model.\" Derive two classes, \"Phone\" and \"Tablet,\" from \"Device.\" Add specific attributes like \"screen_size\" for the \"Phone\" class and \"battery_capacity\" for the \"Tablet\" class.\n",
    "\n",
    "-->\n"
   ]
  },
  {
   "cell_type": "code",
   "execution_count": 42,
   "metadata": {},
   "outputs": [],
   "source": [
    "class Device:\n",
    "    def __init__(self,brand,model):\n",
    "        self.brand = brand\n",
    "        self.model = model\n",
    "\n",
    "    def display_info(self):\n",
    "        return f\"Brand : {self.brand}, Model : {self.model}\"\n",
    "    \n",
    "class Phone(Device):\n",
    "    def __init__(self,brand,model,screen_size):\n",
    "        super().__init__(brand,model)\n",
    "        self.screen_size = screen_size\n",
    "\n",
    "    def display_info(self):\n",
    "        device_info = super().display_info()\n",
    "        return f\"{device_info}, Screen size : {self.screen_size}\"\n",
    "\n",
    "\n",
    "class Tablet(Device):\n",
    "    def __init__(self,brand,model,battery_capacity):\n",
    "        super().__init__(brand,model)\n",
    "        self.battery_capacity = battery_capacity\n",
    "\n",
    "    def display_info(self):\n",
    "        device_info = super().display_info()\n",
    "        return f\"{device_info}, battery_capacity: {self.battery_capacity}\""
   ]
  },
  {
   "cell_type": "code",
   "execution_count": 43,
   "metadata": {},
   "outputs": [],
   "source": [
    "P1 = Phone('Apple','Iphone',5.4)\n",
    "T1 = Tablet('SamSung','Galaxy',8500)"
   ]
  },
  {
   "cell_type": "code",
   "execution_count": 44,
   "metadata": {},
   "outputs": [
    {
     "data": {
      "text/plain": [
       "'Brand : Apple, Model : Iphone, Screen size : 5.4'"
      ]
     },
     "execution_count": 44,
     "metadata": {},
     "output_type": "execute_result"
    }
   ],
   "source": [
    "P1.display_info()"
   ]
  },
  {
   "cell_type": "code",
   "execution_count": 45,
   "metadata": {},
   "outputs": [
    {
     "data": {
      "text/plain": [
       "'Brand : SamSung, Model : Galaxy, battery_capacity: 8500'"
      ]
     },
     "execution_count": 45,
     "metadata": {},
     "output_type": "execute_result"
    }
   ],
   "source": [
    "T1.display_info()"
   ]
  },
  {
   "cell_type": "code",
   "execution_count": null,
   "metadata": {},
   "outputs": [],
   "source": []
  },
  {
   "cell_type": "markdown",
   "metadata": {},
   "source": [
    "10)Create a base class called \"BankAccount\" with attributes like \"account_number\" and \"balance.\" Derive two classes, \"SavingsAccount\" and \"CheckingAccount,\" from \"BankAccount.\" Add specific methods like \"calculate_interest\" for the\n",
    "\"SavingsAccount\" class and \"deduct_fees\" for the \"CheckingAccount\" class."
   ]
  },
  {
   "cell_type": "code",
   "execution_count": 55,
   "metadata": {},
   "outputs": [],
   "source": [
    "class BankAccount:\n",
    "    def __init__(self,account_number, balance):\n",
    "        self.account_number = account_number\n",
    "        self.balance = balance\n",
    "\n",
    "    def display_info(self):\n",
    "        return f\"Account Number = {self.account_number}, Balance : {self.balance}\"\n",
    "    \n",
    "class SavingsAccount(BankAccount):\n",
    "    def __init__(self,account_number, balance, interest_rate):\n",
    "        super().__init__(account_number,balance)\n",
    "        self.interest_rate =interest_rate\n",
    "\n",
    "    def calculate_Interest(self):\n",
    "        interest = self.balance *(self.interest_rate /100)\n",
    "        self.balance += interest\n",
    "        return interest\n",
    "\n",
    "class CheckingAccount(BankAccount):\n",
    "    def __init__(self,account_number, balance,fees):\n",
    "        super().__init__(account_number,balance)\n",
    "        self.fees = fees\n",
    "\n",
    "    def deduct_fees(self):\n",
    "        if self.balance >= self.fees:\n",
    "            self.balance -= self.fees\n",
    "            return self.balance\n",
    "        else :\n",
    "            print('Insufficient Balance')"
   ]
  },
  {
   "cell_type": "code",
   "execution_count": 56,
   "metadata": {},
   "outputs": [],
   "source": [
    "S1 = SavingsAccount(1024, 5000,2.5)\n",
    "C1 = CheckingAccount(2056,2000,250)"
   ]
  },
  {
   "cell_type": "code",
   "execution_count": 57,
   "metadata": {},
   "outputs": [
    {
     "data": {
      "text/plain": [
       "'Account Number = 1024, Balance : 5000'"
      ]
     },
     "execution_count": 57,
     "metadata": {},
     "output_type": "execute_result"
    }
   ],
   "source": [
    "S1.display_info()\n"
   ]
  },
  {
   "cell_type": "code",
   "execution_count": 58,
   "metadata": {},
   "outputs": [
    {
     "data": {
      "text/plain": [
       "125.0"
      ]
     },
     "execution_count": 58,
     "metadata": {},
     "output_type": "execute_result"
    }
   ],
   "source": [
    "S1.calculate_Interest()"
   ]
  },
  {
   "cell_type": "code",
   "execution_count": 59,
   "metadata": {},
   "outputs": [
    {
     "data": {
      "text/plain": [
       "'Account Number = 2056, Balance : 2000'"
      ]
     },
     "execution_count": 59,
     "metadata": {},
     "output_type": "execute_result"
    }
   ],
   "source": [
    "C1.display_info()"
   ]
  },
  {
   "cell_type": "code",
   "execution_count": 60,
   "metadata": {},
   "outputs": [
    {
     "data": {
      "text/plain": [
       "1750"
      ]
     },
     "execution_count": 60,
     "metadata": {},
     "output_type": "execute_result"
    }
   ],
   "source": [
    "C1.deduct_fees()"
   ]
  },
  {
   "cell_type": "code",
   "execution_count": 61,
   "metadata": {},
   "outputs": [],
   "source": [
    "C1 = CheckingAccount(2056,2000,2500)"
   ]
  },
  {
   "cell_type": "code",
   "execution_count": 62,
   "metadata": {},
   "outputs": [
    {
     "name": "stdout",
     "output_type": "stream",
     "text": [
      "Insufficient Balance\n"
     ]
    }
   ],
   "source": [
    "C1.deduct_fees()"
   ]
  },
  {
   "cell_type": "code",
   "execution_count": null,
   "metadata": {},
   "outputs": [],
   "source": []
  }
 ],
 "metadata": {
  "kernelspec": {
   "display_name": "base",
   "language": "python",
   "name": "python3"
  },
  "language_info": {
   "codemirror_mode": {
    "name": "ipython",
    "version": 3
   },
   "file_extension": ".py",
   "mimetype": "text/x-python",
   "name": "python",
   "nbconvert_exporter": "python",
   "pygments_lexer": "ipython3",
   "version": "3.11.3"
  }
 },
 "nbformat": 4,
 "nbformat_minor": 2
}
