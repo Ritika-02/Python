{
  "metadata": {
    "language_info": {
      "codemirror_mode": {
        "name": "python",
        "version": 3
      },
      "file_extension": ".py",
      "mimetype": "text/x-python",
      "name": "python",
      "nbconvert_exporter": "python",
      "pygments_lexer": "ipython3",
      "version": "3.8"
    },
    "kernelspec": {
      "name": "python",
      "display_name": "Python (Pyodide)",
      "language": "python"
    }
  },
  "nbformat_minor": 4,
  "nbformat": 4,
  "cells": [
    {
      "cell_type": "markdown",
      "source": "ASSIGNMENT_5",
      "metadata": {}
    },
    {
      "cell_type": "markdown",
      "source": "1)What does an empty dictionary's code look like?\n\n-->An empty dictionary is often represented by two empty curly brackets d = {} or d = dict().\n",
      "metadata": {}
    },
    {
      "cell_type": "markdown",
      "source": "2)what is the value of dictionary value with key 'foo' and the value 42 ?\n\n-->{'foo':42}",
      "metadata": {}
    },
    {
      "cell_type": "markdown",
      "source": "3)What is the most significant distinction between a dictionary and a list?\n\n-->Dictionaries are represented by {}. The Items stored in a dictionary are Unordered.\n\n   List are represented by [],the items in a list are ordered.\n",
      "metadata": {}
    },
    {
      "cell_type": "markdown",
      "source": "4)What happens if you try to access spam ['foo'] if spam is {'bar':100} ?\n\n-->We will get a keyError KeyError: 'foo'.",
      "metadata": {}
    },
    {
      "cell_type": "markdown",
      "source": "5)if a dictionary is stored in spam,what is the difference between the expressions 'cat' in spam and 'cat' in spam.keys() ?\n\n-->There is no difference . The operator checks whether a value exits as a key in the dictionary or not.",
      "metadata": {}
    },
    {
      "cell_type": "markdown",
      "source": "6)if a dictionary is stored in spam,what is the difference between the expressions 'cat' in spam and 'cat' in spam.values()\n\n-->'cat' in spam checks whether there is a 'cat' key in the dictionary, while 'cat' in spam.values() checks whether there is a value 'cat' for one of the keys in spam.",
      "metadata": {}
    },
    {
      "cell_type": "markdown",
      "source": "7)what is a shortcut for the following code ?\nif 'color' not in spam: spam['color'] ='black'\n\n--> spam.setdefault('color','black')",
      "metadata": {}
    },
    {
      "cell_type": "code",
      "source": "spam = {}\nprint(spam)\nif 'color' not in spam :\n    spam['color'] = 'black'\nprint(spam)",
      "metadata": {
        "trusted": true
      },
      "execution_count": 2,
      "outputs": [
        {
          "name": "stdout",
          "text": "{}\n{'color': 'black'}\n",
          "output_type": "stream"
        }
      ]
    },
    {
      "cell_type": "code",
      "source": "spam1 = {}\nprint(spam1)\nspam1.setdefault('color', 'black')\nprint(spam1)",
      "metadata": {
        "trusted": true
      },
      "execution_count": 3,
      "outputs": [
        {
          "name": "stdout",
          "text": "{}\n{'color': 'black'}\n",
          "output_type": "stream"
        }
      ]
    },
    {
      "cell_type": "markdown",
      "source": "8)",
      "metadata": {}
    }
  ]
}