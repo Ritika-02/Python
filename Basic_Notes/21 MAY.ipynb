{
 "cells": [
  {
   "cell_type": "markdown",
   "id": "da56d618-85fd-4255-9618-33acb2f6a802",
   "metadata": {},
   "source": [
    "## 21 MAY ##"
   ]
  },
  {
   "cell_type": "markdown",
   "id": "bafe5cee-f6a8-47e0-a411-b6713476d2a3",
   "metadata": {},
   "source": [
    "1)Create two int type variables, apply addition, subtraction, division and multiplications\n",
    "and store the results in variables. \n"
   ]
  },
  {
   "cell_type": "code",
   "execution_count": 6,
   "id": "cafa14fb-30dd-48d3-8115-069c3b36af6f",
   "metadata": {},
   "outputs": [
    {
     "name": "stdin",
     "output_type": "stream",
     "text": [
      " 5\n",
      " 2\n"
     ]
    },
    {
     "name": "stdout",
     "output_type": "stream",
     "text": [
      "First variable is 5 & second variable is 2.\n",
      "Addition: 5 + 2 =7 \n",
      "Subraction: 5 - 2 = 3\n",
      "Multiplication: 5 * 2 = 10\n",
      "Division: 5 / 2 = 2.5\n"
     ]
    }
   ],
   "source": [
    "a = int(input())\n",
    "b = int(input())\n",
    "add = a + b\n",
    "sub = a - b\n",
    "mul = a * b\n",
    "div =  a/b\n",
    "print('First variable is {0} & second variable is {1}.'.format(a,b))\n",
    "print('Addition: {0} + {1} ={2} '.format(a,b,add))\n",
    "print('Subraction: {0} - {1} = {2}'.format(a,b,sub))\n",
    "print('Multiplication: {0} * {1} = {2}'.format(a,b,mul))\n",
    "print('Division: {0} / {1} = {2}'.format(a,b,div))\n"
   ]
  },
  {
   "cell_type": "markdown",
   "id": "b69869ed-c627-488d-b83e-387530bd3190",
   "metadata": {},
   "source": [
    "2)What is the difference between the following operators:\n",
    "\n",
    "(i) ‘/’ & ‘//’\n",
    "\n",
    "--> / : The '/' operator performs regular division and returns the result as a floating-point number (float) or a decimal. \n",
    "        Eg: 5/2 = 2.5\n",
    "   // : The '//' operator performs floor division, also known as integer division. It returns the largest integer less than or equal to the         result of the division. \n",
    "        Eg.: 5 //2 = 2\n",
    "        \n",
    "        \n",
    "(ii) ‘**’ & ‘^’\n",
    "\n",
    "--> ** : Exponential operator for example: \n",
    "          2**3 = 8 => 2*2*2\n",
    "     ^ : 10 ^ 6 will return 12, as the binary representation of 10 is 1010 and the binary representation of 6 is 0110. Performing bitwise            XOR between them gives 1100, which is 12 in decimal.\n",
    "\n",
    "\n"
   ]
  },
  {
   "cell_type": "code",
   "execution_count": 7,
   "id": "990ba592-88bf-4330-9cb8-b69b90e43f18",
   "metadata": {},
   "outputs": [
    {
     "name": "stdout",
     "output_type": "stream",
     "text": [
      "2.5\n",
      "2\n",
      "25\n",
      "7\n"
     ]
    }
   ],
   "source": [
    "a = 5\n",
    "b = 2\n",
    "print(a / b)\n",
    "print(a // b)\n",
    "print(a ** b)\n",
    "print(a ^ b)"
   ]
  },
  {
   "cell_type": "markdown",
   "id": "721533a7-76ad-469b-8bb9-82139081d7c5",
   "metadata": {},
   "source": [
    "3)List the logical operators\n",
    "\n",
    "-->and, or and not operator are the logical operators in python"
   ]
  },
  {
   "cell_type": "markdown",
   "id": "6f50506a-e51b-4873-a451-4d8c4c897a1c",
   "metadata": {},
   "source": [
    "4)Explain right shift operator and left shift operator with examples\n",
    "\n",
    "-->The right shift operator (>>) shifts the bits of a number to the right by a specified number of positions.\n",
    "   Each shift to the right effectively divides the number by 2 , discarding the rightmost bits and adding zeroes from the left.\n",
    "\n",
    "   The left shift operator (<<) shifts the bits of a number to the left by a specified number of positions.\n",
    "   Each shift to the left effectively multiplies the number by 2, adding zeroes on the right.\n"
   ]
  },
  {
   "cell_type": "code",
   "execution_count": 8,
   "id": "72ac11af-f849-44ac-9f3f-a2fc93d491ff",
   "metadata": {},
   "outputs": [
    {
     "name": "stdout",
     "output_type": "stream",
     "text": [
      "Right shift operation : 0\n",
      "Left shift operation : 16\n"
     ]
    }
   ],
   "source": [
    "a = 2\n",
    "b = 3\n",
    "print('Right shift operation :',a >> b)\n",
    "\n",
    "print('Left shift operation :',a << b)"
   ]
  },
  {
   "cell_type": "markdown",
   "id": "6ea531d0-6b21-41c6-9f65-b0180ae24736",
   "metadata": {},
   "source": [
    "5)Create a list containing int type data of length 15. Then write a code to check if 10 is\n",
    "present in the list or not.\n"
   ]
  },
  {
   "cell_type": "markdown",
   "id": "3f74244d-30ab-478f-8aa2-a52946815bd0",
   "metadata": {},
   "source": [
    "l1 = []\n",
    "for i in range(15):\n",
    "    num = int(input())\n",
    "    l1.append(num)\n",
    "print(l1)\n",
    "if 10 in l1:\n",
    "    print(\"Yes\")\n",
    "else:\n",
    "    print(\"No\")"
   ]
  },
  {
   "cell_type": "code",
   "execution_count": 1,
   "id": "0f3b8bff-5e6a-4038-98ad-280abba75694",
   "metadata": {},
   "outputs": [
    {
     "name": "stdin",
     "output_type": "stream",
     "text": [
      " 1\n",
      " 2\n",
      " 3\n",
      " 4\n",
      " 5\n",
      " 6\n",
      " 7\n",
      " 8\n",
      " 9\n",
      " 10\n",
      " 11\n",
      " 12\n",
      " 13\n",
      " 14\n",
      " 15\n"
     ]
    },
    {
     "name": "stdout",
     "output_type": "stream",
     "text": [
      "[1, 2, 3, 4, 5, 6, 7, 8, 9, 10, 11, 12, 13, 14, 15]\n",
      "Yes\n"
     ]
    }
   ],
   "source": [
    "l1 = []\n",
    "for i in range(15):\n",
    "    num = int(input())\n",
    "    l1.append(num)\n",
    "print(l1)\n",
    "if 10 in l1:\n",
    "    print(\"Yes\")\n",
    "else:\n",
    "    print(\"No\")"
   ]
  },
  {
   "cell_type": "code",
   "execution_count": null,
   "id": "3e0f18a7-78ed-45bc-b04e-6356b9687d1c",
   "metadata": {},
   "outputs": [],
   "source": []
  }
 ],
 "metadata": {
  "kernelspec": {
   "display_name": "Python 3 (ipykernel)",
   "language": "python",
   "name": "python3"
  },
  "language_info": {
   "codemirror_mode": {
    "name": "ipython",
    "version": 3
   },
   "file_extension": ".py",
   "mimetype": "text/x-python",
   "name": "python",
   "nbconvert_exporter": "python",
   "pygments_lexer": "ipython3",
   "version": "3.10.6"
  }
 },
 "nbformat": 4,
 "nbformat_minor": 5
}
