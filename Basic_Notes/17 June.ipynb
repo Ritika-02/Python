{
 "cells": [
  {
   "cell_type": "markdown",
   "id": "0bedaf6d-3861-419b-a76e-4d98d0ef2eb5",
   "metadata": {},
   "source": [
    "## TRY -EXCEPT BLOCK & ERRORS\n",
    "\n"
   ]
  },
  {
   "cell_type": "markdown",
   "id": "8b3b0e16-9b5b-4dee-8424-f816d5f35e33",
   "metadata": {},
   "source": [
    "1)What is the role of try and exception block?\n",
    "\n",
    "--> Try and Except block are used to catch and manage exceptions.\n",
    "    Try :\n",
    "        It is the normal part of the program.\n",
    "        Try block help us to test the block of code for errors.\n",
    "        \n",
    "   Except:\n",
    "        Code following except block is program response to any exceptions in\n",
    "        the given try block.\n",
    "        Exceot block helps us to handle the error.\n"
   ]
  },
  {
   "cell_type": "markdown",
   "id": "0eb4b850-8f2f-4e79-8b6c-af7fbf7cc086",
   "metadata": {},
   "source": [
    "2)What is the syntax for a basic try-except block?\n",
    "\n",
    "-->"
   ]
  },
  {
   "cell_type": "code",
   "execution_count": 1,
   "id": "1049c659-d235-41de-93f2-5c002c0656f2",
   "metadata": {},
   "outputs": [
    {
     "name": "stdout",
     "output_type": "stream",
     "text": [
      "an error occur\n"
     ]
    }
   ],
   "source": [
    "try:\n",
    "    print(a)\n",
    "except:\n",
    "    print('an error occur')"
   ]
  },
  {
   "cell_type": "markdown",
   "id": "12d1042f-786a-44ac-bc2a-c07ffec27198",
   "metadata": {},
   "source": [
    "3)What happens if an exception occurs inside a try block and there is no matching except block?\n",
    "\n",
    "-->When an exception occurs inside a try block that supports exception\n",
    "   handling, the code inside the try block stops executing, and the program   \n",
    "   looks for a matching except block to handle the raised exception. If there    \n",
    "   is no matching except block to handle the specific exception that occurred,    \n",
    "   the program will terminate, and an error message will be displayed with        \n",
    "   information about the uncaught exception.\n",
    "    "
   ]
  },
  {
   "cell_type": "code",
   "execution_count": 2,
   "id": "7220078c-cc80-4ecd-bc77-20d2c853efcc",
   "metadata": {},
   "outputs": [
    {
     "ename": "ZeroDivisionError",
     "evalue": "division by zero",
     "output_type": "error",
     "traceback": [
      "\u001b[0;31m---------------------------------------------------------------------------\u001b[0m",
      "\u001b[0;31mZeroDivisionError\u001b[0m                         Traceback (most recent call last)",
      "Cell \u001b[0;32mIn [2], line 4\u001b[0m\n\u001b[1;32m      2\u001b[0m b \u001b[38;5;241m=\u001b[39m \u001b[38;5;241m0\u001b[39m\n\u001b[1;32m      3\u001b[0m \u001b[38;5;28;01mtry\u001b[39;00m :\n\u001b[0;32m----> 4\u001b[0m     result \u001b[38;5;241m=\u001b[39m \u001b[43ma\u001b[49m\u001b[38;5;241;43m/\u001b[39;49m\u001b[43mb\u001b[49m\n\u001b[1;32m      5\u001b[0m     \u001b[38;5;28mprint\u001b[39m(\u001b[38;5;124m'\u001b[39m\u001b[38;5;124mDivision :\u001b[39m\u001b[38;5;124m'\u001b[39m,result)\n\u001b[1;32m      6\u001b[0m \u001b[38;5;28;01mexcept\u001b[39;00m \u001b[38;5;167;01mValueError\u001b[39;00m:\n",
      "\u001b[0;31mZeroDivisionError\u001b[0m: division by zero"
     ]
    }
   ],
   "source": [
    "a = 10\n",
    "b = 0\n",
    "try :\n",
    "    result = a/b\n",
    "    print('Division :',result)\n",
    "except ValueError:\n",
    "    print('A valueError occur !')"
   ]
  },
  {
   "cell_type": "markdown",
   "id": "0995dd21-37be-4f77-8191-fe8fdb349674",
   "metadata": {},
   "source": [
    "4)What is the difference between using a bare except block and specifying a specific exception type?\n",
    "\n",
    "--> Bare Except Block :\n",
    "      It is generic or catch-all except block, it catches any exception that occurs inside the corresponding try block, regardless the type       of exception let it be built-in or custom exceptions.\n",
    "      \n",
    "   Specific Exception Block:\n",
    "      Specific Exception type in except block allows you to handle only specified type of exception. Through this we can provide more        specific error handling and help us to take actions based on type of exception.\n",
    "\n"
   ]
  },
  {
   "cell_type": "code",
   "execution_count": 3,
   "id": "973aa8a4-0135-4c19-9735-b059a895c0a1",
   "metadata": {},
   "outputs": [
    {
     "name": "stdout",
     "output_type": "stream",
     "text": [
      "Exception occur\n"
     ]
    }
   ],
   "source": [
    "# Bare except Block\n",
    "try:\n",
    "    result = 10/0\n",
    "except:\n",
    "    print('Exception occur')"
   ]
  },
  {
   "cell_type": "code",
   "execution_count": 4,
   "id": "4a81fb7b-059d-4598-a088-0af4c7026d1c",
   "metadata": {},
   "outputs": [
    {
     "name": "stdout",
     "output_type": "stream",
     "text": [
      "Cannot divide by zero\n"
     ]
    }
   ],
   "source": [
    "#Specific except Block\n",
    "try:\n",
    "    result = 10/0\n",
    "except ZeroDivisionError:\n",
    "    print('Cannot divide by zero')"
   ]
  },
  {
   "cell_type": "markdown",
   "id": "c83eae01-359a-4477-ab66-78c57e483745",
   "metadata": {},
   "source": [
    "5)Can you have nested try-except blocks in Python? If yes, then give an example.\n",
    "\n",
    "-->Yes, we can have nested try-except blocks in Python. It means we can have one \n",
    "try-except block inside another try-except block.\n"
   ]
  },
  {
   "cell_type": "code",
   "execution_count": 6,
   "id": "fc5897f9-78a8-4988-b113-bbb7ce247975",
   "metadata": {},
   "outputs": [
    {
     "name": "stdout",
     "output_type": "stream",
     "text": [
      "try block\n",
      "Nested try block\n",
      "Except Block\n"
     ]
    }
   ],
   "source": [
    "a = 10\n",
    "b = 0\n",
    "try :\n",
    "    print('try block')\n",
    "    try:\n",
    "        print('Nested try block')\n",
    "        print(a/b)\n",
    "    except TypeError:\n",
    "        print('Nested Except block')\n",
    "except ZeroDivisionError:\n",
    "    print('Except Block')\n",
    "    "
   ]
  },
  {
   "cell_type": "markdown",
   "id": "437c652a-9934-4e93-b3ae-83787e98b8c7",
   "metadata": {},
   "source": [
    "6)Can we use multiple exception blocks, if yes then give an example.\n",
    "\n",
    "-->Yes, we can have multiple except blocks to handle different types of exception.\n"
   ]
  },
  {
   "cell_type": "code",
   "execution_count": 10,
   "id": "e0326515-4070-4f66-988d-ced46e01f93e",
   "metadata": {},
   "outputs": [],
   "source": [
    "def number(a,b):\n",
    "    try:\n",
    "        result = a/b\n",
    "        return result\n",
    "    except ZeroDivisionError:\n",
    "        print('Cannot Divide by zero')\n",
    "    except TypeError:\n",
    "        print('Invalid data types')\n",
    "    \n"
   ]
  },
  {
   "cell_type": "code",
   "execution_count": 11,
   "id": "e6c3de2a-493f-43c1-b4c1-fca9469303d2",
   "metadata": {},
   "outputs": [
    {
     "name": "stdout",
     "output_type": "stream",
     "text": [
      "Cannot Divide by zero\n"
     ]
    }
   ],
   "source": [
    "number(10,0)"
   ]
  },
  {
   "cell_type": "code",
   "execution_count": 14,
   "id": "c2eddffc-a722-4161-bd97-3a11ba58555a",
   "metadata": {},
   "outputs": [
    {
     "name": "stdout",
     "output_type": "stream",
     "text": [
      "Invalid data types\n"
     ]
    }
   ],
   "source": [
    "number(10,'a')"
   ]
  },
  {
   "cell_type": "markdown",
   "id": "7f8acbe1-b7d2-43c1-9c2f-17b49e810a6e",
   "metadata": {},
   "source": [
    "7)Write the reason due to which following errors are raised:\n",
    "a. EOFError\n",
    "b. FloatingPointError\n",
    "c. IndexError\n",
    "d. MemoryError\n",
    "e. OverflowError\n",
    "f. TabError\n",
    "g. ValueError\n"
   ]
  },
  {
   "cell_type": "markdown",
   "id": "9be732f5-47ff-4fe1-8933-eff857fa3412",
   "metadata": {},
   "source": [
    "a) EOF Error\n",
    "\n",
    "An EOFError in Python stands for \"End of File Error.\" It is raised when a built-in function like input() tries to read beyond the end of a file. "
   ]
  },
  {
   "cell_type": "markdown",
   "id": "927fc7c9-9f84-4177-9240-4e556e89723e",
   "metadata": {},
   "source": [
    "b) FloatingPointError\n",
    "\n",
    "A FloatingPointError is an exception that can be raised when an arithmetic operation involving floating-point numbers encounters an exceptional condition. These exceptional conditions typically arise in numeric computations due to the limitations of floating-point representation."
   ]
  },
  {
   "cell_type": "markdown",
   "id": "e21d47db-bce0-4de1-adcf-8b26b5d5f960",
   "metadata": {},
   "source": [
    "c) IndexError\n",
    "\n",
    "IndexError is an exception that occurs when you try to access an element from a sequence (such as a list, tuple, or string) using an index that is out of range or invalid."
   ]
  },
  {
   "cell_type": "markdown",
   "id": "7b56358d-92fe-4ad3-9399-36b8aa82e424",
   "metadata": {},
   "source": [
    "d) MemoryError\n",
    "\n",
    "MemoryError in Python indicates that your program has run out of available memory. This usually occurs when your Python script tries to allocate more memory than the system can provide."
   ]
  },
  {
   "cell_type": "markdown",
   "id": "4317fd39-128f-40af-8702-78b7e2cb529b",
   "metadata": {},
   "source": [
    "e) OverflowError\n",
    "\n",
    "An OverflowError in Python occurs when a numerical operation exceeds the maximum or minimum representable value for a numeric data type.Python raises this exception to indicate that the result of a computation is too large or too small to be stored in the given data type."
   ]
  },
  {
   "cell_type": "markdown",
   "id": "393d01c8-5cac-4092-bd54-f62d6f63b95d",
   "metadata": {},
   "source": [
    "f) TabError\n",
    "\n",
    "A TabError in Python is raised when there is an issue with the usage of tabs and spaces for indentation in your Python code."
   ]
  },
  {
   "cell_type": "markdown",
   "id": "373b54fe-9f9a-4555-be33-b88f0433081c",
   "metadata": {},
   "source": [
    "g) ValueError\n",
    "\n",
    "A ValueError is an exception that occurs when a function receives an argument of the correct data type but with an inappropriate value."
   ]
  },
  {
   "cell_type": "code",
   "execution_count": null,
   "id": "6f8612ee-6954-4625-9fb6-f049ad8a9875",
   "metadata": {},
   "outputs": [],
   "source": []
  },
  {
   "cell_type": "markdown",
   "id": "07d3e00e-aa39-4545-8b29-6a6776f602ad",
   "metadata": {},
   "source": [
    "8)Write code for the following given scenario and add try-exception block to it.\n",
    "a. Program to divide two numbers\n",
    "b. Program to convert a string to an integer\n",
    "c. Program to access an element in a list\n",
    "d. Program to handle a specific exception\n",
    "e. Program to handle any exception"
   ]
  },
  {
   "cell_type": "code",
   "execution_count": 19,
   "id": "846870a9-9c27-49d5-bb79-0a6d763bcfa4",
   "metadata": {},
   "outputs": [],
   "source": [
    "# Program to divide two numbers\n",
    "\n",
    "def number(a,b):\n",
    "    try:\n",
    "        result = a/b\n",
    "        return result\n",
    "    except ZeroDivisionError:\n",
    "        print('Cannot divide by zero')\n",
    "    except TypeError:\n",
    "        print('Enter valid number')"
   ]
  },
  {
   "cell_type": "code",
   "execution_count": 20,
   "id": "70c4de48-34d4-4210-b4fe-a5df7ac7cb67",
   "metadata": {},
   "outputs": [
    {
     "name": "stdout",
     "output_type": "stream",
     "text": [
      "Cannot divide by zero\n"
     ]
    }
   ],
   "source": [
    "number(10,0)"
   ]
  },
  {
   "cell_type": "code",
   "execution_count": 21,
   "id": "133ee08d-a47c-42e8-a7b3-0d846cfa1136",
   "metadata": {},
   "outputs": [
    {
     "name": "stdout",
     "output_type": "stream",
     "text": [
      "Enter valid number\n"
     ]
    }
   ],
   "source": [
    "number(10,'a')"
   ]
  },
  {
   "cell_type": "code",
   "execution_count": null,
   "id": "e930d7c5-b720-4745-82a6-13dfb92fc3a1",
   "metadata": {},
   "outputs": [],
   "source": []
  },
  {
   "cell_type": "code",
   "execution_count": 27,
   "id": "c2bf9726-cce9-4d89-bb57-10792c036259",
   "metadata": {},
   "outputs": [
    {
     "name": "stdin",
     "output_type": "stream",
     "text": [
      "enter an integer q\n"
     ]
    },
    {
     "name": "stdout",
     "output_type": "stream",
     "text": [
      "enter a valid number\n"
     ]
    }
   ],
   "source": [
    "#Program to convert a string to an integer\n",
    "try:\n",
    "    a =input('enter an integer')\n",
    "    value = int(a)\n",
    "    print(value)\n",
    "except ValueError:\n",
    "    print('enter a valid number')\n"
   ]
  },
  {
   "cell_type": "code",
   "execution_count": null,
   "id": "80aa172c-b416-47a3-a3a6-5f9b059e083d",
   "metadata": {},
   "outputs": [],
   "source": []
  },
  {
   "cell_type": "code",
   "execution_count": 28,
   "id": "ec8ef5d8-3554-4443-8569-9d4d579949cf",
   "metadata": {},
   "outputs": [
    {
     "name": "stdin",
     "output_type": "stream",
     "text": [
      "enter an index : 6\n"
     ]
    },
    {
     "name": "stdout",
     "output_type": "stream",
     "text": [
      "Index out of range\n"
     ]
    }
   ],
   "source": [
    "#Program to access an element in a list\n",
    "try:\n",
    "    list1 =[1,2,3,4,5]\n",
    "    value = int(input('enter an index :'))\n",
    "    item = list1[value]\n",
    "    print(f\"value at {value}:{item}\")\n",
    "except IndexError:\n",
    "    print('Index out of range')\n",
    "except ValueError:\n",
    "    print('Invalid input')"
   ]
  },
  {
   "cell_type": "code",
   "execution_count": null,
   "id": "36eb4894-6156-4e4f-916b-eceb9a2f5fd8",
   "metadata": {},
   "outputs": [],
   "source": []
  },
  {
   "cell_type": "code",
   "execution_count": 29,
   "id": "f1c383eb-9c50-4f27-bdeb-7e8e087e20e9",
   "metadata": {},
   "outputs": [
    {
     "name": "stdout",
     "output_type": "stream",
     "text": [
      "Cannot divide by zero\n"
     ]
    }
   ],
   "source": [
    "#Program to handle a specific exception\n",
    "try:\n",
    "    result = 10/0\n",
    "except ZeroDivisionError:\n",
    "    print('Cannot divide by zero')"
   ]
  },
  {
   "cell_type": "code",
   "execution_count": null,
   "id": "96cda6ac-db69-4991-91f2-4847e15b04e1",
   "metadata": {},
   "outputs": [],
   "source": []
  },
  {
   "cell_type": "code",
   "execution_count": 30,
   "id": "b9f35a6b-eaad-4751-91f5-f04087a83c10",
   "metadata": {},
   "outputs": [
    {
     "name": "stdout",
     "output_type": "stream",
     "text": [
      "Exception occur\n"
     ]
    }
   ],
   "source": [
    "#Program to handle any exception\n",
    "try:\n",
    "    result = 10/0\n",
    "except:\n",
    "    print('Exception occur')"
   ]
  },
  {
   "cell_type": "code",
   "execution_count": null,
   "id": "dc2ab876-adcc-426d-85b2-ba791e870a02",
   "metadata": {},
   "outputs": [],
   "source": []
  }
 ],
 "metadata": {
  "kernelspec": {
   "display_name": "Python 3 (ipykernel)",
   "language": "python",
   "name": "python3"
  },
  "language_info": {
   "codemirror_mode": {
    "name": "ipython",
    "version": 3
   },
   "file_extension": ".py",
   "mimetype": "text/x-python",
   "name": "python",
   "nbconvert_exporter": "python",
   "pygments_lexer": "ipython3",
   "version": "3.10.6"
  }
 },
 "nbformat": 4,
 "nbformat_minor": 5
}
