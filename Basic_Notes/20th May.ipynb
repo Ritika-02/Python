{
 "cells": [
  {
   "cell_type": "markdown",
   "id": "3499eb59-f34f-43db-8465-f9f3db8c3134",
   "metadata": {},
   "source": [
    "## 20th MAY ##"
   ]
  },
  {
   "cell_type": "markdown",
   "id": "e3ab29b4-93ed-4371-b86a-c024fa1a0b24",
   "metadata": {},
   "source": [
    "1)What are keywords in python? Using the keyword library, print all the python keywords.\n",
    "\n",
    "-->Keywords are the reserved words that cannot be used as an ordinary identifiers. Keywords are immutable and case-sensitive. There are total of 35 keyords."
   ]
  },
  {
   "cell_type": "code",
   "execution_count": 2,
   "id": "be1a20a2-8f6b-4aaf-ba31-ff3b887cd731",
   "metadata": {},
   "outputs": [
    {
     "name": "stdout",
     "output_type": "stream",
     "text": [
      "['False', 'None', 'True', 'and', 'as', 'assert', 'async', 'await', 'break', 'class', 'continue', 'def', 'del', 'elif', 'else', 'except', 'finally', 'for', 'from', 'global', 'if', 'import', 'in', 'is', 'lambda', 'nonlocal', 'not', 'or', 'pass', 'raise', 'return', 'try', 'while', 'with', 'yield']\n"
     ]
    }
   ],
   "source": [
    "import keyword\n",
    "print(keyword.kwlist)"
   ]
  },
  {
   "cell_type": "markdown",
   "id": "86760be4-cd84-442d-ac09-6d03327640e2",
   "metadata": {},
   "source": [
    "2)What are the rules to create variables in python?\n",
    "\n",
    "--> i)It can only contain alpha_numeric characters and underscore                   \n",
    "    (A-z, 0-9,_).\n",
    "    ii)Variable names are case-sensitive(age, AGE, Age are 3 different                \n",
    "    variables).\n",
    "    iii)Variable cannot start with a number.\n",
    "    iv)Variable can only have underscore as a special symbol."
   ]
  },
  {
   "cell_type": "markdown",
   "id": "bc24d480-c001-426d-9e60-35f7c84b3f5e",
   "metadata": {},
   "source": [
    "3)What are the standards and conventions followed for the nomenclature of       variables in python to improve code readability and maintainability?\n",
    "\n",
    "-->Use descriptive names , use lowercase letters and underscores, avoid using    reserved keywords.\n",
    "  -Use constant in uppercase and use any one of the SnakeCase and CamelCase      consistently."
   ]
  },
  {
   "cell_type": "markdown",
   "id": "5c538ee4-1153-4f7a-b97c-fda143fc663e",
   "metadata": {},
   "source": [
    "4)What will happen if a keyword is used as a variable name?\n",
    "\n",
    "-->Interpreter will throw an error stating invalid syntax."
   ]
  },
  {
   "cell_type": "markdown",
   "id": "9f97632f-88e8-43fe-997a-d830d7212ed7",
   "metadata": {},
   "source": [
    "5)For what purpose def keyword is used?\n",
    "\n",
    "-->'def' in python is used to declare a function. For example,\n",
    "    def functionName():"
   ]
  },
  {
   "cell_type": "markdown",
   "id": "202b6145-7396-4a66-a98d-310de8da9b52",
   "metadata": {},
   "source": [
    "6)What is the operation of this special character ‘\\’?\n",
    "\n",
    "-->The special character '\\' is used as an escape character. It is used to        escape or indicate special characters or sequences within a string or          character literal. The '\\' is followed by another character to create an      escape sequence."
   ]
  },
  {
   "cell_type": "markdown",
   "id": "e75080b4-388f-490d-9199-c1885febefc0",
   "metadata": {},
   "source": [
    "7). Give an example of the following conditions:\n",
    "\n",
    "\n",
    "-->(i) Homogeneous list = [2,4,6,8,10]\n",
    "   (ii) Heterogeneous set = {'Hello', 3, False}\n",
    "   (iii) Homogeneous tuple = ('jack', 'jill')"
   ]
  },
  {
   "cell_type": "markdown",
   "id": "e433db8d-5257-4104-b7d8-4cba1c84d458",
   "metadata": {},
   "source": [
    "8)Explain the mutable and immutable data types with proper explanation &         examples.\n",
    "\n",
    "-->IMMUTABLE data types are those which can't be modified. On trying to modify    or reassign, new reference gets created.\n",
    "   Eg : Int, float, tuple, etc.\n",
    "   \n",
    "   \n",
    "   MUTABLE data types are those which can be modified and on modification, it    does not create any new instance but directly impacts the object itself.\n",
    "   Eg : List, Dictionary, Set, etc"
   ]
  },
  {
   "cell_type": "markdown",
   "id": "5c480842-dc99-4b75-ace7-0fe5cc5441a5",
   "metadata": {},
   "source": [
    "9)Write a code to create the given structure using only for loop.\n",
    "    *\n",
    "   ***\n",
    "  *****\n",
    " *******\n",
    "*********"
   ]
  },
  {
   "cell_type": "code",
   "execution_count": 4,
   "id": "c3783f10-3ee9-472a-b6dc-66b6ae3713c6",
   "metadata": {},
   "outputs": [
    {
     "name": "stdin",
     "output_type": "stream",
     "text": [
      "Number of input : 5\n"
     ]
    },
    {
     "name": "stdout",
     "output_type": "stream",
     "text": [
      "    *\n",
      "   ***\n",
      "  *****\n",
      " *******\n",
      "*********\n"
     ]
    }
   ],
   "source": [
    "rows = int(input('Number of input :'))\n",
    "for i in range(rows):\n",
    "    for j in range(rows - i - 1):\n",
    "        print(\" \", end=\"\")\n",
    "    \n",
    "    for k in range(2*i + 1):\n",
    "        print(\"*\", end=\"\")\n",
    "    \n",
    "    print()"
   ]
  },
  {
   "cell_type": "markdown",
   "id": "20519c34-5761-4c45-96f2-1ec0eb717b4f",
   "metadata": {},
   "source": [
    "10)Write a code to create the given structure using while loop.\n",
    "|||||||||\n",
    " |||||||\n",
    "  |||||\n",
    "   |||\n",
    "    |"
   ]
  },
  {
   "cell_type": "code",
   "execution_count": 18,
   "id": "5a7b6bf2-f227-40ae-8e70-d4babb8a80c2",
   "metadata": {},
   "outputs": [
    {
     "name": "stdout",
     "output_type": "stream",
     "text": [
      "|||||||||\n",
      " |||||||\n",
      "  |||||\n",
      "   |||\n",
      "    |\n"
     ]
    }
   ],
   "source": [
    "row = 5  \n",
    "while row >= 1:\n",
    "    spaces = 5 - row  \n",
    "    stars = 2 * row - 1  \n",
    "    print(\" \" * spaces + \"|\" * stars)\n",
    "    row -= 1\n",
    "\n"
   ]
  },
  {
   "cell_type": "markdown",
   "id": "dd76df4f-aafd-4727-8144-22c3e4cbf61a",
   "metadata": {},
   "source": []
  }
 ],
 "metadata": {
  "kernelspec": {
   "display_name": "Python 3 (ipykernel)",
   "language": "python",
   "name": "python3"
  },
  "language_info": {
   "codemirror_mode": {
    "name": "ipython",
    "version": 3
   },
   "file_extension": ".py",
   "mimetype": "text/x-python",
   "name": "python",
   "nbconvert_exporter": "python",
   "pygments_lexer": "ipython3",
   "version": "3.10.6"
  }
 },
 "nbformat": 4,
 "nbformat_minor": 5
}
