{
  "metadata": {
    "language_info": {
      "codemirror_mode": {
        "name": "python",
        "version": 3
      },
      "file_extension": ".py",
      "mimetype": "text/x-python",
      "name": "python",
      "nbconvert_exporter": "python",
      "pygments_lexer": "ipython3",
      "version": "3.8"
    },
    "kernelspec": {
      "name": "python",
      "display_name": "Python (Pyodide)",
      "language": "python"
    }
  },
  "nbformat_minor": 4,
  "nbformat": 4,
  "cells": [
    {
      "cell_type": "markdown",
      "source": "ASSIGNMENT_3",
      "metadata": {}
    },
    {
      "cell_type": "markdown",
      "source": "1)Why are functions advantageous to have in your programs?\n\n-->Functions reduce the need for duplicate code that makes programs shorter, easier to read and update. \n   The main advantage of functions is code Reusability. ",
      "metadata": {}
    },
    {
      "cell_type": "markdown",
      "source": "2)When does the code in a function run: when it's specified or when it's called?\n\n-->The code in a function executes when the function is called, not when the function is specified.",
      "metadata": {}
    },
    {
      "cell_type": "markdown",
      "source": "3)What statement creates a function?\n\n-->The def statement defines a function.\n   Syntax: def function_name(parameters):\n                \"function_body\"\n           return value",
      "metadata": {}
    },
    {
      "cell_type": "markdown",
      "source": "4)What is the difference between a function and a function call?\n\n-->A function is procedure to achieve a particular result while function call is using this function to achive the task. Using a function to do a particular task any point in program is called as function call.\n",
      "metadata": {}
    },
    {
      "cell_type": "markdown",
      "source": "5)How many global scopes are there in a Python program? How many local scopes?\n\n-->There is one global scope, and a local scope is created whenever a function is called.",
      "metadata": {}
    },
    {
      "cell_type": "markdown",
      "source": "6)What happens to variables in a local scope when the function call returns?\n\n-->When a function returns, the local scope is destroyed, and all the variables in it are forgotten.",
      "metadata": {}
    },
    {
      "cell_type": "markdown",
      "source": "7)What is the concept of a return value? Is it possible to have a return value in an expression?\n\n-->A return value is the value that a function call evaluates to. Like any value, a return value can be used as part of an expression.",
      "metadata": {}
    },
    {
      "cell_type": "markdown",
      "source": "8)If a function does not have a return statement, what is the return value of a call to that function?\n\n-->If there is no return statement for a function, its return value is None.",
      "metadata": {}
    },
    {
      "cell_type": "markdown",
      "source": "9)How do you make a function variable refer to the global variable?\n\n-->A global statement will force a variable in a function to refer to the global variable. If you want to refer to a global variable in a function, you can use the global keyword to declare which variables are global.",
      "metadata": {}
    },
    {
      "cell_type": "markdown",
      "source": "10)What is the data type of None?\n--> NoneType is the data type of None.",
      "metadata": {}
    },
    {
      "cell_type": "markdown",
      "source": "11)What does the sentence import areallyourpetsnamederic do?\n\n-->The import statement imports a module named areallyourpetsnamederic.",
      "metadata": {}
    },
    {
      "cell_type": "markdown",
      "source": "12)If you had a bacon() feature in a spam module, what would you call it after importing spam?\n\n-->This function can be called with spam.bacon().",
      "metadata": {}
    },
    {
      "cell_type": "markdown",
      "source": "13)What can you do to save a programme from crashing if it encounters an error?\n\n-->  Using Exception Handling.\n    Place the line of code that might cause an error in a try clause and use except block to handle the error.",
      "metadata": {}
    },
    {
      "cell_type": "markdown",
      "source": "14)What is the purpose of the try clause? What is the purpose of the except clause?\n\n-->The code that could potentially cause an error goes in the try clause. The code that executes if an error happens goes in the except  clause.",
      "metadata": {}
    }
  ]
}