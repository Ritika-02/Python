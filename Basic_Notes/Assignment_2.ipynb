{
  "metadata": {
    "language_info": {
      "codemirror_mode": {
        "name": "python",
        "version": 3
      },
      "file_extension": ".py",
      "mimetype": "text/x-python",
      "name": "python",
      "nbconvert_exporter": "python",
      "pygments_lexer": "ipython3",
      "version": "3.8"
    },
    "kernelspec": {
      "name": "python",
      "display_name": "Python (Pyodide)",
      "language": "python"
    }
  },
  "nbformat_minor": 4,
  "nbformat": 4,
  "cells": [
    {
      "cell_type": "markdown",
      "source": "ASSIGNMENT_2",
      "metadata": {}
    },
    {
      "cell_type": "markdown",
      "source": "1)What are the two values of the Boolean data type? How do you write them?\n\n-->True and False are two values of the boolen data types.\n    a=True\n    b=False\n    We have to use capital T and F and with the rest of the word in lowercase\n",
      "metadata": {}
    },
    {
      "cell_type": "code",
      "source": "a=True\nb=False\nprint(a)\nprint(type(b))",
      "metadata": {
        "trusted": true
      },
      "execution_count": 1,
      "outputs": [
        {
          "name": "stdout",
          "text": "True\n<class 'bool'>\n",
          "output_type": "stream"
        }
      ]
    },
    {
      "cell_type": "markdown",
      "source": "2)What are the three different types of Boolean operators?\n\n-->The three differnt types of Boolean operators in python are:\n    AND, OR , NOT",
      "metadata": {}
    },
    {
      "cell_type": "code",
      "source": "#Example of Boolean operators(and, or , not)\na=10\nb=20\nprint(a>5 and b>10) \nprint(a>20 or b>10) \nprint(not(b>10))",
      "metadata": {
        "trusted": true
      },
      "execution_count": 6,
      "outputs": [
        {
          "name": "stdout",
          "text": "True\nTrue\nFalse\n",
          "output_type": "stream"
        }
      ]
    },
    {
      "cell_type": "markdown",
      "source": "3)Make a list of each Boolean operator's truth tables (i.e. every possible combination of Boolean values for the operator and what it evaluate ).\n\n-->Let us consider 'True' as 1 and False as 0.\n    The Truth tables for the boolean tables are as follows:\n    \n    * Truth table for 'and'\n     1  and  1 is 1 True\n     1  and  0 is 0 False\n     0  and  1 is 0 False\n     0  and  0 is 0 False\n     \n    * Truth table for 'or'\n     1 or 1 is 1 True\n     1 or 0 is 1 True\n     0 or 1 is 1 True\n     0 or 0 is 0 False\n     \n    * Truth table for 'not'\n     1 not 0 \n     True not is False\n     False not is True\n     ",
      "metadata": {}
    },
    {
      "cell_type": "markdown",
      "source": "4)What are the values of the following expressions?\n    (5 > 4) and (3 == 5)\n    not (5 > 4)\n    (5 > 4) or (3 == 5)\n    not ((5 > 4) or (3 == 5))\n    (True and True) and (True == False)\n    (not False) or (not True)\n-->",
      "metadata": {}
    },
    {
      "cell_type": "code",
      "source": "print((5>4)and(3==5))\nprint(not(5>4)) \nprint((5>4)or(3==5)) \nprint(not((5>4)or(3==5))) \nprint((True and True)and(True==False)) \nprint((not False)or(not True)) ",
      "metadata": {
        "trusted": true
      },
      "execution_count": 7,
      "outputs": [
        {
          "name": "stdout",
          "text": "False\nFalse\nTrue\nFalse\nFalse\nTrue\n",
          "output_type": "stream"
        }
      ]
    },
    {
      "cell_type": "markdown",
      "source": "5)What are the six comparison operators?\n\n-->The Six comparision operators available in python are:\n    == : Equal To\n    != : Not Equal To\n    <  : Less Than\n    >  : Greater Than\n    <= : Less Than or Equal To\n    => : Greater Than or Equal To\n",
      "metadata": {}
    },
    {
      "cell_type": "markdown",
      "source": "6). How do you tell the difference between the equal to and assignment  operators?Describe a condition and when you would use one.\n-->equal to operator(==) that compares two values and evaluates to a Boolean,  while assignment operator(=) that stores a value in a variable.\n    Ex :if a == 5:     # Equal To Operator\n            print(\"odd\")\n    Ex: a = 5           # Assignment Operator",
      "metadata": {}
    },
    {
      "cell_type": "markdown",
      "source": "7)Identify the three blocks in this code:\nspam = 0\nif spam == 10:\nprint('eggs')\nif spam > 5:\nprint('bacon')\nelse:\nprint('ham')\nprint('spam')\nprint('spam')\n\n-->code block is refers to a collection of code that is in the same block or indent. This is most commonly found in classes, functions, and loops.    \n",
      "metadata": {}
    },
    {
      "cell_type": "code",
      "source": "spam = 0 \nif spam == 10: \n    print('eggs')  # block 1\nif spam > 5:  \n    print('bacon')  # block 2\nelse:  \n    print('ham')  # block 3\n    print('spam')  \n    print('spam')",
      "metadata": {
        "trusted": true
      },
      "execution_count": 9,
      "outputs": [
        {
          "name": "stdout",
          "text": "ham\nspam\nspam\n",
          "output_type": "stream"
        }
      ]
    },
    {
      "cell_type": "markdown",
      "source": "8)Write code that prints Hello if 1 is stored in spam, prints Howdy if 2 is stored in spam, and prints Greetings! if anything else is stored in spam.\n\n-->",
      "metadata": {}
    },
    {
      "cell_type": "code",
      "source": "def Func(spam):\n    if spam==1:\n        print('Hello')\n    elif spam==2:\n        print('Howdy')\n    else:\n        print('Greetings')\n        \nFunc(1) \nFunc(2)\nFunc(5)",
      "metadata": {
        "trusted": true
      },
      "execution_count": 16,
      "outputs": [
        {
          "name": "stdout",
          "text": "Hello\nHowdy\nGreetings\n",
          "output_type": "stream"
        }
      ]
    },
    {
      "cell_type": "markdown",
      "source": "9)If your programme is stuck in an endless loop, what keys you’ll press?\n\n--> I'll press Ctrl-C to stop a program that is stuck in an infinite loop.",
      "metadata": {}
    },
    {
      "cell_type": "markdown",
      "source": "10)How can you tell the difference between break and continue?\n\n-->The break statement will move the execution outside the loop if break condition is satisfied. Whereas the continue statement will move the execution to the start of the loop.",
      "metadata": {}
    },
    {
      "cell_type": "markdown",
      "source": "11)In a for loop, what is the difference between range(10), range(0, 10), and range(0, 10, 1)?\n\n-->The range(10) call range from 0 to 9 (but not include 10)\n   The range (0,10) explicitly tells the loop to start at 0\n   The range(0,10,1) explicitly tells the loop to increase the variable or step by 1  on each iteration.",
      "metadata": {}
    },
    {
      "cell_type": "markdown",
      "source": "12)Write a short program that prints the numbers 1 to 10 using a for loop. Then write an equivalent program that prints the numbers 1 to 10 using a while loop.\n-->",
      "metadata": {}
    },
    {
      "cell_type": "code",
      "source": "#Using For Loop\nfor i in range(1,11):\n    print(i, end=\" \")\nprint('\\n')",
      "metadata": {
        "trusted": true
      },
      "execution_count": 17,
      "outputs": [
        {
          "name": "stdout",
          "text": "1 2 3 4 5 6 7 8 9 10 \n\n",
          "output_type": "stream"
        }
      ]
    },
    {
      "cell_type": "code",
      "source": "#Using While Loop\ni=1\nwhile i<=10:\n    print(i, end=\" \")\n    i+=1",
      "metadata": {
        "trusted": true
      },
      "execution_count": 18,
      "outputs": [
        {
          "name": "stdout",
          "text": "1 2 3 4 5 6 7 8 9 10 ",
          "output_type": "stream"
        }
      ]
    },
    {
      "cell_type": "markdown",
      "source": "13)If you had a function named bacon() inside a module named spam, how would you call it after importing spam?\n\n-->The function can be called with spam.bacon()",
      "metadata": {}
    }
  ]
}