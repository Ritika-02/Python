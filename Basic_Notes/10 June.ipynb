{
 "cells": [
  {
   "cell_type": "markdown",
   "metadata": {},
   "source": [
    "## 10th June"
   ]
  },
  {
   "cell_type": "markdown",
   "metadata": {},
   "source": [
    "1)In Python, what is the difference between a built-in function and a user-defined function? Provide an example of each.\n",
    "\n",
    "-->Built-in Function :\n",
    "    They are predefined functions which can be used anytime as per user requirements.\n",
    "    example : sum(), len()\n",
    "\n",
    "    User-Defined Function :\n",
    "    User-defined functions are created with the def keyword followed by a function name of our choice.\n",
    "    "
   ]
  },
  {
   "cell_type": "code",
   "execution_count": 1,
   "metadata": {},
   "outputs": [
    {
     "name": "stdout",
     "output_type": "stream",
     "text": [
      "15\n"
     ]
    }
   ],
   "source": [
    "#Built-in Function\n",
    "list1 =[1,2,3,4,5]\n",
    "list2 = sum(list1)\n",
    "print(list2)"
   ]
  },
  {
   "cell_type": "code",
   "execution_count": 2,
   "metadata": {},
   "outputs": [
    {
     "name": "stdout",
     "output_type": "stream",
     "text": [
      "15\n"
     ]
    }
   ],
   "source": [
    "#User-Definde Function\n",
    "def list1(item, a = 0):\n",
    "    for i in item:\n",
    "        a += i\n",
    "    print(a)\n",
    "\n",
    "list1([1,2,3,4,5])"
   ]
  },
  {
   "cell_type": "markdown",
   "metadata": {},
   "source": [
    "2) How can you pass arguments to a function in Python? Explain the difference between positional arguments and keyword arguments.\n",
    "\n",
    "-->Arguments in python are specified after the function name, inside the parentheses. We can add as many arguments as we want, we just have to separate them with a comma. \n",
    "Python functions can contain two types of arguments:\n",
    "\n",
    "1)Positional Arguments :It must be included in the correct order.\n",
    "2)Keyword Arguments :Are included with a keyword and equal sign."
   ]
  },
  {
   "cell_type": "code",
   "execution_count": 3,
   "metadata": {},
   "outputs": [
    {
     "name": "stdout",
     "output_type": "stream",
     "text": [
      "My name is  Jack\n",
      "roll no : 20\n"
     ]
    }
   ],
   "source": [
    "#Positional argument\n",
    "def Student(name, rollno):\n",
    "    print('My name is ',name)\n",
    "    print('roll no :',rollno)\n",
    "\n",
    "Student('Jack',20)"
   ]
  },
  {
   "cell_type": "code",
   "execution_count": 4,
   "metadata": {},
   "outputs": [
    {
     "name": "stdout",
     "output_type": "stream",
     "text": [
      "My name is  20\n",
      "roll no : Jill\n"
     ]
    }
   ],
   "source": [
    "Student(20,'Jill')"
   ]
  },
  {
   "cell_type": "code",
   "execution_count": 6,
   "metadata": {},
   "outputs": [
    {
     "name": "stdout",
     "output_type": "stream",
     "text": [
      "My name is  Jack\n",
      "roll no : 20\n"
     ]
    }
   ],
   "source": [
    "#Keyword Argument\n",
    "def Student(name, rollno):\n",
    "    print('My name is ',name)\n",
    "    print('roll no :',rollno)\n",
    "\n",
    "Student(name ='Jack',rollno =20)"
   ]
  },
  {
   "cell_type": "code",
   "execution_count": 7,
   "metadata": {},
   "outputs": [
    {
     "name": "stdout",
     "output_type": "stream",
     "text": [
      "My name is  Jack\n",
      "roll no : 20\n"
     ]
    }
   ],
   "source": [
    "Student(rollno=20, name='Jack')"
   ]
  },
  {
   "cell_type": "markdown",
   "metadata": {},
   "source": [
    "3)What is the purpose of the return statement in a function? Can a function have multiple return statements? Explain with an example.\n",
    "\n",
    "-->Return statement is used to return the values from the function. We can use the return statement in a function only. A return statement ends the processing of the current function and returns control to the caller of the function. It simply returns the values as output whereas print() function simply print the value.\n",
    "\n",
    "Yes, a function can have more than one return statement, but only ever run one based on a condition.\n"
   ]
  },
  {
   "cell_type": "code",
   "execution_count": 8,
   "metadata": {},
   "outputs": [],
   "source": [
    "def num(n):\n",
    "    if n % 2 == 0:\n",
    "        return 'even'\n",
    "    else:\n",
    "        return 'odd'"
   ]
  },
  {
   "cell_type": "code",
   "execution_count": 9,
   "metadata": {},
   "outputs": [
    {
     "data": {
      "text/plain": [
       "'even'"
      ]
     },
     "execution_count": 9,
     "metadata": {},
     "output_type": "execute_result"
    }
   ],
   "source": [
    "num(4)"
   ]
  },
  {
   "cell_type": "code",
   "execution_count": 10,
   "metadata": {},
   "outputs": [
    {
     "data": {
      "text/plain": [
       "'odd'"
      ]
     },
     "execution_count": 10,
     "metadata": {},
     "output_type": "execute_result"
    }
   ],
   "source": [
    "num(5)"
   ]
  },
  {
   "cell_type": "markdown",
   "metadata": {},
   "source": [
    "4) What are lambda functions in Python? How are they different from regular functions? Provide an example where a lambda function can be useful.\n",
    "\n",
    "-->\n",
    "Python Lambda Functions are anonymous functions which means that the function can be defined without a name in program.\n",
    "Lambda functions can have any number of arguments but only one expression, which is evaluated and returned implicitly. Lambda functions are syntactically restricted to a single expression. Using lambda function can sometime reduce the readability of code.\n",
    "\n"
   ]
  },
  {
   "cell_type": "code",
   "execution_count": 12,
   "metadata": {},
   "outputs": [
    {
     "name": "stdout",
     "output_type": "stream",
     "text": [
      "7\n"
     ]
    }
   ],
   "source": [
    "add = lambda x,y: x+y\n",
    "print(add(2,5))"
   ]
  },
  {
   "cell_type": "markdown",
   "metadata": {},
   "source": [
    "5) How does the concept of \"scope\" apply to functions in Python? Explain the difference between local scope and global scope.\n",
    "\n",
    "--> local scope :\n",
    "    When a variable is created inside a function it belongs to the local scope of that function, and can only be used inside that function.\n",
    "\n",
    "    global scope :\n",
    "    When a varible is created outside a function it's global variable with global scope\n"
   ]
  },
  {
   "cell_type": "markdown",
   "metadata": {},
   "source": [
    "6)How can you use the \"return\" statement in a Python function to return multiple values?\n"
   ]
  },
  {
   "cell_type": "code",
   "execution_count": 13,
   "metadata": {},
   "outputs": [
    {
     "data": {
      "text/plain": [
       "(4, 2, 6)"
      ]
     },
     "execution_count": 13,
     "metadata": {},
     "output_type": "execute_result"
    }
   ],
   "source": [
    "def add(a,b):\n",
    "    return (a,b, a+b)\n",
    "\n",
    "add(4,2)"
   ]
  },
  {
   "cell_type": "markdown",
   "metadata": {},
   "source": [
    "7) What is the difference between the \"pass by value\" and \"pass by reference\" concepts when it comes to function arguments in Python?\n",
    "\n",
    "--> Pass by Value :\n",
    "    In this value is directly passed as the value to the argument of function.\n",
    "    - operation is done on the value and then value is stored at the address.\n",
    "\n",
    "    Pass by reference :\n",
    "    Here, values to the argument of the function are passed by reference.\n",
    "    -Address of variable is passed and then operation is done on the value stored."
   ]
  },
  {
   "cell_type": "markdown",
   "metadata": {},
   "source": [
    "8)Create a function that can intake integer or decimal value and do following operations:\n",
    "a. Logarithmic function (log x)\n",
    "b. Exponential function (exp(x))\n",
    "c. Power function with base 2 (2x)\n",
    "d. Square root"
   ]
  },
  {
   "cell_type": "code",
   "execution_count": 7,
   "metadata": {},
   "outputs": [
    {
     "name": "stdout",
     "output_type": "stream",
     "text": [
      "Logarithmic function (log x) : 1.3862943611198906\n",
      "Exponential function (exp(x)) : 54.598150033144236\n",
      "Power function with base 2 (2x) : 32\n",
      "Square root : 2.0\n"
     ]
    }
   ],
   "source": [
    "import math\n",
    "\n",
    "def func(x):\n",
    "    print('Logarithmic function (log x) :',math.log(x))\n",
    "    print('Exponential function (exp(x)) :',math.exp(x))\n",
    "    print('Power function with base 2 (2x) :',2*2**x)\n",
    "    print('Square root :',math.sqrt(x))\n",
    "\n",
    "func(int(input('Enter a number :')))"
   ]
  },
  {
   "cell_type": "markdown",
   "metadata": {},
   "source": [
    "9)Create a function that takes a full name as an argument and returns first name and last name."
   ]
  },
  {
   "cell_type": "code",
   "execution_count": 6,
   "metadata": {},
   "outputs": [
    {
     "name": "stdout",
     "output_type": "stream",
     "text": [
      "First Name :  Virat ,Last Name :  Kohli\n"
     ]
    }
   ],
   "source": [
    "def name(n):\n",
    "    x = n.split()\n",
    "    print(\"First Name : \",x[0], \",Last Name : \",x[1])\n",
    "\n",
    "name(input('Enter Full name :'))"
   ]
  },
  {
   "cell_type": "code",
   "execution_count": null,
   "metadata": {},
   "outputs": [],
   "source": [
    "\n"
   ]
  }
 ],
 "metadata": {
  "kernelspec": {
   "display_name": "base",
   "language": "python",
   "name": "python3"
  },
  "language_info": {
   "codemirror_mode": {
    "name": "ipython",
    "version": 3
   },
   "file_extension": ".py",
   "mimetype": "text/x-python",
   "name": "python",
   "nbconvert_exporter": "python",
   "pygments_lexer": "ipython3",
   "version": "3.11.3"
  }
 },
 "nbformat": 4,
 "nbformat_minor": 2
}
