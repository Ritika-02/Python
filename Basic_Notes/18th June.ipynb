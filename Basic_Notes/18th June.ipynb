{
 "cells": [
  {
   "cell_type": "markdown",
   "metadata": {},
   "source": [
    "## 18th June"
   ]
  },
  {
   "cell_type": "markdown",
   "metadata": {},
   "source": [
    "1)What is the role of the 'else' block in a try-except statement? Provide an example scenario where it would be useful.\n",
    "\n",
    "-->In try-except statement we use else block to execute our program when there is no error in the code.\n",
    "\n"
   ]
  },
  {
   "cell_type": "code",
   "execution_count": 3,
   "metadata": {},
   "outputs": [
    {
     "name": "stdout",
     "output_type": "stream",
     "text": [
      "cannot divide by zero\n"
     ]
    }
   ],
   "source": [
    "try:\n",
    "    div = 10/0\n",
    "except ZeroDivisionError:\n",
    "    print('cannot divide by zero')"
   ]
  },
  {
   "cell_type": "markdown",
   "metadata": {},
   "source": [
    "2)Can a try-except block be nested inside another try-except block? Explain with an example.\n",
    "\n",
    "-->Yes, try-except block can be nested inside another try-except block."
   ]
  },
  {
   "cell_type": "code",
   "execution_count": 1,
   "metadata": {},
   "outputs": [
    {
     "name": "stdout",
     "output_type": "stream",
     "text": [
      "First try block\n",
      "Nested - second try block\n",
      "Second except block\n"
     ]
    }
   ],
   "source": [
    "x = 10\n",
    "y = 0\n",
    "try:\n",
    "    print('First try block')\n",
    "    try:\n",
    "        print('Nested - second try block')\n",
    "        print(x/y)\n",
    "    except TypeError:\n",
    "        print('Nested - first except block')\n",
    "except ZeroDivisionError:\n",
    "    print('Second except block')"
   ]
  },
  {
   "cell_type": "markdown",
   "metadata": {},
   "source": [
    "3)How can you create a custom exception class in Python? Provide an example that demonstrates its usage.\n",
    "\n",
    "-->We can create a custom class in python by using raise function, when the error is expected in the program then we can capture that exception by using except block in the program same as normal program.\n"
   ]
  },
  {
   "cell_type": "code",
   "execution_count": 5,
   "metadata": {},
   "outputs": [
    {
     "name": "stdout",
     "output_type": "stream",
     "text": [
      "age : 10\n",
      "Exception occur : invalid age....\n"
     ]
    }
   ],
   "source": [
    "class Age_Exception(Exception):\n",
    "    'Raised when input value is less than 18'\n",
    "    pass\n",
    "age = 18\n",
    "try:\n",
    "    num = int(input('Enter a number :'))\n",
    "    print(\"age :\",num)\n",
    "    if num < age:\n",
    "        raise Age_Exception\n",
    "    else:\n",
    "        print('Eligible to vote')\n",
    "\n",
    "except Age_Exception:\n",
    "    print('Exception occur : invalid age....')"
   ]
  },
  {
   "cell_type": "markdown",
   "metadata": {},
   "source": [
    "4)What are some common exceptions that are built-in to Python?\n",
    "\n",
    "--> Common built-in exceptions in python are:\n",
    "    [Arithemetic Error, ZeroDivisionError, ValueError, IndentationError, IndexError, AttributeError]"
   ]
  },
  {
   "cell_type": "markdown",
   "metadata": {},
   "source": [
    "5)What is logging in Python, and why is it important in software development?\n",
    "\n",
    "--> Logging in python is used for recording events which are happening.It is important for system security.\n",
    "It is imported as: import logging\n",
    "\n",
    "It is important in software development has it helps in detetcting the cause of problem by looking at logging record"
   ]
  },
  {
   "cell_type": "markdown",
   "metadata": {},
   "source": [
    "6)Explain the purpose of log levels in Python logging and provide examples of when each log level would be appropriate.\n",
    "\n",
    "-->When we set logging level in Python using the standard module, we are telling the library that we want to handle all events from that level up. Setting the log level to INFO will include INFO, WARNING, ERROR, and CRITICAL messages.\n",
    "\n",
    "{Level     / Numeric value / Definition}\n",
    "\n",
    "{Critical  |       50       | Cant be fixed by errors}\n",
    "{Error     |       40       | Actual errors in code}\n",
    "{Warning   |       30       | Just warnings}\n",
    "{INFO      |       20       | increasing order danger}\n",
    "{DEbug     |       10       | increasing order danger}\n",
    "{NOTSET    |        0       | Nothing}"
   ]
  },
  {
   "cell_type": "code",
   "execution_count": 21,
   "metadata": {},
   "outputs": [
    {
     "name": "stderr",
     "output_type": "stream",
     "text": [
      "CRITICAL:root:System failured to boot : You need to handle the issue\n"
     ]
    }
   ],
   "source": [
    "#Critical\n",
    "import logging\n",
    "\n",
    "logging.basicConfig(level=logging.CRITICAL)\n",
    "\n",
    "def LetUsCheckSystem(sys):\n",
    "    if sys != 'OK':\n",
    "        logging.critical('System failured to boot : %s', sys)\n",
    "\n",
    "LetUsCheckSystem('You need to handle the issue')"
   ]
  },
  {
   "cell_type": "code",
   "execution_count": 1,
   "metadata": {},
   "outputs": [
    {
     "name": "stderr",
     "output_type": "stream",
     "text": [
      "ERROR:root:Division by Zero\n"
     ]
    }
   ],
   "source": [
    "#Error\n",
    "import logging\n",
    "logging.basicConfig(level=logging.ERROR)\n",
    "\n",
    "try:\n",
    "    result = (10/0)\n",
    "except ZeroDivisionError:\n",
    "    logging.error(\"Division by Zero\")\n",
    "else:\n",
    "    print(result)\n"
   ]
  },
  {
   "cell_type": "code",
   "execution_count": 1,
   "metadata": {},
   "outputs": [
    {
     "name": "stderr",
     "output_type": "stream",
     "text": [
      "WARNING:root:Sorry you have low balance, your balance is 5000\n"
     ]
    }
   ],
   "source": [
    "#Warning\n",
    "import logging\n",
    "logging.basicConfig(level=logging.WARNING)\n",
    "def MyBalance(amount):\n",
    "    if amount < 40000:\n",
    "        logging.warning(\"Sorry you have low balance, your balance is %s\", amount)\n",
    "\n",
    "MyBalance(5000)"
   ]
  },
  {
   "cell_type": "code",
   "execution_count": 1,
   "metadata": {},
   "outputs": [
    {
     "name": "stderr",
     "output_type": "stream",
     "text": [
      "INFO:root:User name is Admin\n"
     ]
    }
   ],
   "source": [
    "#INFO\n",
    "import logging\n",
    "logging.basicConfig(level=logging.INFO)\n",
    "def login123(user):\n",
    "    logging.info('User name is %s', user)\n",
    "    \n",
    "login123('Admin')"
   ]
  },
  {
   "cell_type": "code",
   "execution_count": 1,
   "metadata": {},
   "outputs": [
    {
     "name": "stderr",
     "output_type": "stream",
     "text": [
      "DEBUG:root:Variables are 2 and 3\n"
     ]
    },
    {
     "data": {
      "text/plain": [
       "5"
      ]
     },
     "execution_count": 1,
     "metadata": {},
     "output_type": "execute_result"
    }
   ],
   "source": [
    "#debug\n",
    "import logging\n",
    "\n",
    "logging.basicConfig(level=logging.DEBUG)\n",
    "\n",
    "def add(x, y):\n",
    "    logging.debug(\"Variables are %s and %s\", x, y)\n",
    "    return x + y\n",
    "\n",
    "add(2, 3)"
   ]
  },
  {
   "cell_type": "markdown",
   "metadata": {},
   "source": [
    "7)What are log formatters in Python logging, and how can you customise the log message format using formatters?\n",
    "\n",
    "-->The handlers use logging.Formatter objects to format a log record into a string-based log entry.\n",
    "Formatters do not control the creation of log messages."
   ]
  },
  {
   "cell_type": "code",
   "execution_count": 31,
   "metadata": {},
   "outputs": [
    {
     "name": "stderr",
     "output_type": "stream",
     "text": [
      "CRITICAL:root:System failure: You need to handle the issue now\n"
     ]
    }
   ],
   "source": [
    "import os\n",
    "import logging\n",
    "dir_path =  r\"C:\\Users\\dell\\Desktop\\fsdsm_Assignment\\Python Basic Assignments\\18th June\"\n",
    "log_file = 'system.txt'\n",
    "full_path = os.path.join(dir_path, log_file)\n",
    "os.makedirs(dir_path, exist_ok=True)\n",
    "logger = logging.getLogger()\n",
    "logger.setLevel(logging.CRITICAL)\n",
    "handler = logging.FileHandler(full_path)\n",
    "handler.setFormatter(logging.Formatter('%(asctime)s:%(levelname)s:%(message)s'))\n",
    "logger.addHandler(handler)\n",
    "def LetUsCheckSystem(sys):\n",
    "    if sys != 'OK':\n",
    "        logging.critical('System failure: %s', sys)\n",
    "LetUsCheckSystem('You need to handle the issue now')\n",
    "handler.close()"
   ]
  },
  {
   "cell_type": "markdown",
   "metadata": {},
   "source": [
    "8)How can you set up logging to capture log messages from multiple modules or classes in a Python application?\n",
    "\n",
    "-->We can define our own logger by creating an object of the Logger class, especially if our application has multiple modules.\n",
    "\n"
   ]
  },
  {
   "cell_type": "markdown",
   "metadata": {},
   "source": [
    "9)What is the difference between the logging and print statements in Python? When should you use logging over print statements in a real-world application?\n",
    "\n",
    "--> Logging:\n",
    "    -Logging helps us in recording the error during execution of a python program\n",
    "    -Used in Production environments only\n",
    "    -It has different log levels such as Debug, Info, Error, Warning, and Critical.\n",
    "\n",
    "\n",
    "    Print:\n",
    "    -Display the info on console for debugging purpose\n",
    "    -It is mainly for debugging\n",
    "    -It does not have any levels, it simply prints whatever is passed to it.\n"
   ]
  },
  {
   "cell_type": "code",
   "execution_count": 2,
   "metadata": {},
   "outputs": [
    {
     "name": "stderr",
     "output_type": "stream",
     "text": [
      "INFO:root:Hello\n"
     ]
    }
   ],
   "source": [
    "#Logging\n",
    "\n",
    "import logging; \n",
    "logging.basicConfig(level=logging.INFO); \n",
    "logging.info(\"Hello\")\n"
   ]
  },
  {
   "cell_type": "code",
   "execution_count": 33,
   "metadata": {},
   "outputs": [
    {
     "name": "stdout",
     "output_type": "stream",
     "text": [
      "Hello\n"
     ]
    }
   ],
   "source": [
    "#Print \n",
    "print(\"Hello\")"
   ]
  },
  {
   "cell_type": "markdown",
   "metadata": {},
   "source": [
    "10)Write a Python program that logs a message to a file named \"app.log\" with the following requirements:\n",
    "● The log message should be \"Hello, World!\"\n",
    "● The log level should be set to \"INFO.\"\n",
    "● The log file should append new log entries without overwriting previous ones"
   ]
  },
  {
   "cell_type": "code",
   "execution_count": 34,
   "metadata": {},
   "outputs": [
    {
     "name": "stderr",
     "output_type": "stream",
     "text": [
      "INFO:root:Hello, World\n"
     ]
    }
   ],
   "source": [
    "import os\n",
    "import logging\n",
    "dir_path =  r\"C:\\Users\\dell\\Desktop\\fsdsm_Assignment\\Python Basic Assignments\\18th June\"\n",
    "log_file = 'app.log'\n",
    "full_path = os.path.join(dir_path, log_file)\n",
    "os.makedirs(dir_path, exist_ok=True)\n",
    "logger = logging.getLogger()\n",
    "logger.setLevel(logging.INFO)\n",
    "\n",
    "#Filehandler event\n",
    "handler = logging.FileHandler(full_path)\n",
    "handler.setFormatter(logging.Formatter('%(asctime)s:%(levelname)s:%(message)s'))\n",
    "logger.addHandler(handler)\n",
    "def LetUsCheckSystem(sys):\n",
    "    if sys != 'OK':\n",
    "        logging.info('%s', sys)\n",
    "LetUsCheckSystem('Hello, World')\n",
    "handler.close()"
   ]
  },
  {
   "cell_type": "markdown",
   "metadata": {},
   "source": [
    "11)Create a Python program that logs an error message to the console and a file named \"errors.log\" if an exception occurs during the program's execution. The error message should include the exception type and a timestamp."
   ]
  },
  {
   "cell_type": "code",
   "execution_count": 2,
   "metadata": {},
   "outputs": [
    {
     "name": "stderr",
     "output_type": "stream",
     "text": [
      "ERROR:root:Exception Type: ZeroDivisionError, Timestamp: 2023-10-24 22:54:26.617986\n"
     ]
    },
    {
     "name": "stdout",
     "output_type": "stream",
     "text": [
      "An error occurred. Check 'errors.log' for details.\n"
     ]
    }
   ],
   "source": [
    "import logging\n",
    "import datetime\n",
    "\n",
    "logging.basicConfig(level=logging.ERROR, format='%(asctime)s [%(levelname)s] %(message)s', filename='errors.log')\n",
    "\n",
    "def log_error(exception):\n",
    "    current_time = datetime.datetime.now()\n",
    "    error_message = f\"Exception Type: {exception.__class__.__name__}, Timestamp: {current_time}\"\n",
    "    logging.error(error_message)\n",
    "\n",
    "def main():\n",
    "    try:\n",
    "        result = 10 / 0  \n",
    "    except Exception as e:\n",
    "        log_error(e)\n",
    "        print(\"An error occurred. Check 'errors.log' for details.\")\n",
    "\n",
    "if __name__ == \"__main__\":\n",
    "    main()\n"
   ]
  },
  {
   "cell_type": "code",
   "execution_count": null,
   "metadata": {},
   "outputs": [],
   "source": []
  }
 ],
 "metadata": {
  "kernelspec": {
   "display_name": "base",
   "language": "python",
   "name": "python3"
  },
  "language_info": {
   "codemirror_mode": {
    "name": "ipython",
    "version": 3
   },
   "file_extension": ".py",
   "mimetype": "text/x-python",
   "name": "python",
   "nbconvert_exporter": "python",
   "pygments_lexer": "ipython3",
   "version": "3.11.3"
  }
 },
 "nbformat": 4,
 "nbformat_minor": 2
}
