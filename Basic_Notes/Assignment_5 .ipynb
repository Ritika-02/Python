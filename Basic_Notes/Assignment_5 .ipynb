{
  "metadata": {
    "language_info": {
      "codemirror_mode": {
        "name": "python",
        "version": 3
      },
      "file_extension": ".py",
      "mimetype": "text/x-python",
      "name": "python",
      "nbconvert_exporter": "python",
      "pygments_lexer": "ipython3",
      "version": "3.8"
    },
    "kernelspec": {
      "name": "python",
      "display_name": "Python (Pyodide)",
      "language": "python"
    }
  },
  "nbformat_minor": 4,
  "nbformat": 4,
  "cells": [
    {
      "cell_type": "markdown",
      "source": "ASSIGNMENT_5",
      "metadata": {}
    },
    {
      "cell_type": "markdown",
      "source": "1)What does an empty dictionary's code look like?\n\n-->An empty dictionary is often represented by two empty curly brackets d = {} or d = dict().\n",
      "metadata": {}
    },
    {
      "cell_type": "markdown",
      "source": "2)what is the value of dictionary value with key 'foo' and the value 42 ?\n\n-->{'foo':42}",
      "metadata": {}
    },
    {
      "cell_type": "markdown",
      "source": "3)What is the most significant distinction between a dictionary and a list?\n\n-->Dictionaries are represented by {}. The Items stored in a dictionary are Unordered.\n\n   List are represented by [],the items in a list are ordered.\n",
      "metadata": {}
    },
    {
      "cell_type": "markdown",
      "source": "4)What happens if you try to access spam ['foo'] if spam is {'bar':100} ?\n\n-->We will get a keyError KeyError: 'foo'.",
      "metadata": {}
    },
    {
      "cell_type": "markdown",
      "source": "5)if a dictionary is stored in spam,what is the difference between the expressions 'cat' in spam and 'cat' in spam.keys() ?\n\n-->There is no difference . The operator checks whether a value exits as a key in the dictionary or not.",
      "metadata": {}
    },
    {
      "cell_type": "markdown",
      "source": "6)if a dictionary is stored in spam,what is the difference between the expressions 'cat' in spam and 'cat' in spam.values()\n\n-->'cat' in spam checks whether there is a 'cat' key in the dictionary, while 'cat' in spam.values() checks whether there is a value 'cat' for one of the keys in spam.",
      "metadata": {}
    },
    {
      "cell_type": "markdown",
      "source": "7)what is a shortcut for the following code ?\nif 'color' not in spam: spam['color'] ='black'\n\n--> spam.setdefault('color','black')",
      "metadata": {}
    },
    {
      "cell_type": "code",
      "source": "spam = {}\nprint(spam)\nif 'color' not in spam :\n    spam['color'] = 'black'\nprint(spam)",
      "metadata": {
        "trusted": true
      },
      "execution_count": 2,
      "outputs": [
        {
          "name": "stdout",
          "text": "{}\n{'color': 'black'}\n",
          "output_type": "stream"
        }
      ]
    },
    {
      "cell_type": "code",
      "source": "spam1 = {}\nprint(spam1)\nspam1.setdefault('color', 'black')\nprint(spam1)",
      "metadata": {
        "trusted": true
      },
      "execution_count": 3,
      "outputs": [
        {
          "name": "stdout",
          "text": "{}\n{'color': 'black'}\n",
          "output_type": "stream"
        }
      ]
    },
    {
      "cell_type": "markdown",
      "source": "8)How do you 'pretty print' dictionary values using which modules and function ?\n\n-->we can pretty print a dictionary using three functions\n   By using pprint() function of pprint module\n   by using dumps() method of json module\n   by using dumps() method of yaml module",
      "metadata": {}
    },
    {
      "cell_type": "code",
      "source": "dict1 = [\n  {'Name': 'Ritz', 'Age': '23', 'Residence': {'Country':'India', 'City': 'Pune'}},\n  {'Name': 'Snitz', 'Age': '22', 'Residence': {'Country':'India', 'City': 'Mumbai'}},\n  {'Name': 'Jack', 'Age': '29', 'Residence': {'Country':'UK', 'City': 'England'}}\n]\n",
      "metadata": {
        "trusted": true
      },
      "execution_count": 2,
      "outputs": []
    },
    {
      "cell_type": "code",
      "source": "#Normal Print\nprint('Printing using print() function\\n',dict1)\n",
      "metadata": {
        "trusted": true
      },
      "execution_count": 3,
      "outputs": [
        {
          "name": "stdout",
          "text": "Printing using print() function\n [{'Name': 'Ritz', 'Age': '23', 'Residence': {'Country': 'India', 'City': 'Pune'}}, {'Name': 'Snitz', 'Age': '22', 'Residence': {'Country': 'India', 'City': 'Mumbai'}}, {'Name': 'Jack', 'Age': '29', 'Residence': {'Country': 'UK', 'City': 'England'}}]\n",
          "output_type": "stream"
        }
      ]
    },
    {
      "cell_type": "code",
      "source": "#Pprint() function\nimport pprint\npprint.pprint(dict1)",
      "metadata": {
        "trusted": true
      },
      "execution_count": 5,
      "outputs": [
        {
          "name": "stdout",
          "text": "[{'Age': '23',\n  'Name': 'Ritz',\n  'Residence': {'City': 'Pune', 'Country': 'India'}},\n {'Age': '22',\n  'Name': 'Snitz',\n  'Residence': {'City': 'Mumbai', 'Country': 'India'}},\n {'Age': '29',\n  'Name': 'Jack',\n  'Residence': {'City': 'England', 'Country': 'UK'}}]\n",
          "output_type": "stream"
        }
      ]
    },
    {
      "cell_type": "code",
      "source": "#dump() method of json module\nimport json\ndump = json.dumps(dict1, indent=3)\nprint('Printing using dumps() method\\n', dump)",
      "metadata": {
        "trusted": true
      },
      "execution_count": 7,
      "outputs": [
        {
          "name": "stdout",
          "text": "Printing using dumps() method\n [\n   {\n      \"Name\": \"Ritz\",\n      \"Age\": \"23\",\n      \"Residence\": {\n         \"Country\": \"India\",\n         \"City\": \"Pune\"\n      }\n   },\n   {\n      \"Name\": \"Snitz\",\n      \"Age\": \"22\",\n      \"Residence\": {\n         \"Country\": \"India\",\n         \"City\": \"Mumbai\"\n      }\n   },\n   {\n      \"Name\": \"Jack\",\n      \"Age\": \"29\",\n      \"Residence\": {\n         \"Country\": \"UK\",\n         \"City\": \"England\"\n      }\n   }\n]\n",
          "output_type": "stream"
        }
      ]
    },
    {
      "cell_type": "code",
      "source": "#dump() method of yaml module\nimport yaml\ndump = yaml.dump(dict1)\nprint('Printing using dump() method\\n', dump)",
      "metadata": {
        "trusted": true
      },
      "execution_count": 8,
      "outputs": [
        {
          "name": "stdout",
          "text": "Printing using dump() method\n - Age: '23'\n  Name: Ritz\n  Residence:\n    City: Pune\n    Country: India\n- Age: '22'\n  Name: Snitz\n  Residence:\n    City: Mumbai\n    Country: India\n- Age: '29'\n  Name: Jack\n  Residence:\n    City: England\n    Country: UK\n\n",
          "output_type": "stream"
        }
      ]
    },
    {
      "cell_type": "code",
      "source": "",
      "metadata": {},
      "execution_count": null,
      "outputs": []
    }
  ]
}