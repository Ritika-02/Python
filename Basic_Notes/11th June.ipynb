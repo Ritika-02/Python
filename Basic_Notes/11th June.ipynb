{
 "cells": [
  {
   "cell_type": "markdown",
   "metadata": {},
   "source": [
    "## 11th JUNE"
   ]
  },
  {
   "cell_type": "markdown",
   "metadata": {},
   "source": [
    "1) What is a lambda function in Python, and how does it differ from a regular function?\n",
    "\n",
    "--> Lambda Function : An anonymous function which can be defined without a name, can have any number of arguments and returns only one expression.\n",
    "\n",
    "Unlike Regular function, lambda function takes two or more arguments and list them with a comma."
   ]
  },
  {
   "cell_type": "code",
   "execution_count": 3,
   "metadata": {},
   "outputs": [
    {
     "name": "stdout",
     "output_type": "stream",
     "text": [
      "Regular function : 4\n",
      "lambda function : 3\n"
     ]
    }
   ],
   "source": [
    "#Example\n",
    "\n",
    "#Regular or Normal function\n",
    "def add(a):\n",
    "    print('Regular function :',a+1)\n",
    "    return\n",
    "\n",
    "add(3)\n",
    "\n",
    "#Lambda function\n",
    "print('lambda function :',(lambda a: a+1)(2))"
   ]
  },
  {
   "cell_type": "markdown",
   "metadata": {},
   "source": [
    "2)Can a lambda function in Python have multiple arguments? If yes, how can you define and use\n",
    "them?\n",
    "\n",
    "-->Yes, lambda functions can have multiple arguments.\n"
   ]
  },
  {
   "cell_type": "code",
   "execution_count": 6,
   "metadata": {},
   "outputs": [
    {
     "name": "stdout",
     "output_type": "stream",
     "text": [
      "lambda add, 2+3+4 : 9\n"
     ]
    }
   ],
   "source": [
    "#Example : multiple arguments\n",
    "\n",
    "x = 2\n",
    "y = 3\n",
    "z = 4\n",
    "lambda_add =(lambda x,y,z : x+y+z) (x,y,z)\n",
    "print(f'lambda add, {x}+{y}+{z} :', lambda_add)"
   ]
  },
  {
   "cell_type": "markdown",
   "metadata": {},
   "source": [
    "3)How are lambda functions typically used in Python? Provide an example use case.\n",
    "\n",
    "-->lambda function are used as an argument to a higher order function.They are used together with built-in functions.\n"
   ]
  },
  {
   "cell_type": "code",
   "execution_count": 7,
   "metadata": {},
   "outputs": [
    {
     "name": "stdout",
     "output_type": "stream",
     "text": [
      "[3, 4, 5]\n"
     ]
    }
   ],
   "source": [
    "list1 = [1,2,3,4,5]\n",
    "list2 = filter(lambda x: x>2,list1)\n",
    "print(list(list2))"
   ]
  },
  {
   "cell_type": "markdown",
   "metadata": {},
   "source": [
    "4)What are the advantages and limitations of lambda functions compared to regular functions in Python?\n",
    "\n",
    "--> Lambda Function\n",
    "\n",
    "    Advantages :\n",
    "    -They can be immediately used without defining a variable.\n",
    "    -Lambda function excutes fast and automatically returns the value.\n",
    "    -They make code much more readable by avoiding logical jumps.\n",
    "\n",
    "\n",
    "    Limitations:\n",
    "    -Lambda function can have only one expression.\n",
    "    -They cannot have a docstring in them to explain major functions.\n",
    "\n"
   ]
  },
  {
   "cell_type": "markdown",
   "metadata": {},
   "source": [
    "5)Are lambda functions in Python able to access variables defined outside of their own scope?\n",
    "Explain with an example.\n",
    "\n",
    "\n",
    "-->Yes, Lambda function in python able to access variables defined outside their own scope.\n"
   ]
  },
  {
   "cell_type": "code",
   "execution_count": 12,
   "metadata": {},
   "outputs": [
    {
     "name": "stdout",
     "output_type": "stream",
     "text": [
      "4\n"
     ]
    }
   ],
   "source": [
    "x = 5\n",
    "add = (lambda a,b,c: a+b+c - x) (2,3,4)\n",
    "print(add)"
   ]
  },
  {
   "cell_type": "markdown",
   "metadata": {},
   "source": [
    "6)Write a lambda function to calculate the square of a given number."
   ]
  },
  {
   "cell_type": "code",
   "execution_count": 17,
   "metadata": {},
   "outputs": [
    {
     "name": "stdout",
     "output_type": "stream",
     "text": [
      "Square of 4 is : 16\n"
     ]
    }
   ],
   "source": [
    "\n",
    "a= int(input())\n",
    "square = (lambda x : x*x)(a)\n",
    "print(f'Square of {a} is :',square)"
   ]
  },
  {
   "cell_type": "markdown",
   "metadata": {},
   "source": [
    "7)Create a lambda function to find the maximum value in a list of integers."
   ]
  },
  {
   "cell_type": "code",
   "execution_count": 22,
   "metadata": {},
   "outputs": [
    {
     "data": {
      "text/plain": [
       "7"
      ]
     },
     "execution_count": 22,
     "metadata": {},
     "output_type": "execute_result"
    }
   ],
   "source": [
    "list1 = [2,4,6,3,7]\n",
    "max(list1 , key = lambda x : int(x))"
   ]
  },
  {
   "cell_type": "markdown",
   "metadata": {},
   "source": [
    "8)Implement a lambda function to filter out all the even numbers from a list of integers.\n"
   ]
  },
  {
   "cell_type": "code",
   "execution_count": 29,
   "metadata": {},
   "outputs": [
    {
     "name": "stdout",
     "output_type": "stream",
     "text": [
      "[2, 4, 6]\n"
     ]
    }
   ],
   "source": [
    "list1 =[2,4,3,6,7]\n",
    "even = list(filter(lambda x : x % 2 ==0 ,list1))\n",
    "print(even)"
   ]
  },
  {
   "cell_type": "markdown",
   "metadata": {},
   "source": [
    "9)Write a lambda function to sort a list of strings in ascending order based on the length of each string.\n"
   ]
  },
  {
   "cell_type": "code",
   "execution_count": 33,
   "metadata": {},
   "outputs": [
    {
     "name": "stdout",
     "output_type": "stream",
     "text": [
      "['how', 'are', 'you', 'Good', 'Hello', 'Morning']\n"
     ]
    }
   ],
   "source": [
    "string1 =['Hello','Good', 'Morning','how','are', 'you']\n",
    "sort_string1 = sorted(string1,key =lambda x : len(x))\n",
    "print(sort_string1)"
   ]
  },
  {
   "cell_type": "markdown",
   "metadata": {},
   "source": [
    "10)Create a lambda function that takes two lists as input and returns a new list containing the common elements between the two lists."
   ]
  },
  {
   "cell_type": "code",
   "execution_count": 35,
   "metadata": {},
   "outputs": [
    {
     "name": "stdout",
     "output_type": "stream",
     "text": [
      "[4, 5]\n"
     ]
    }
   ],
   "source": [
    "list1 = [1,2,3,4,5]\n",
    "list2 = [4,5,6,7,8]\n",
    "result = list(filter(lambda x: x in list1, list2))\n",
    "print(result)"
   ]
  },
  {
   "cell_type": "markdown",
   "metadata": {},
   "source": [
    "11) Write a recursive function to calculate the factorial of a given positive integer."
   ]
  },
  {
   "cell_type": "code",
   "execution_count": 40,
   "metadata": {},
   "outputs": [
    {
     "data": {
      "text/plain": [
       "120"
      ]
     },
     "execution_count": 40,
     "metadata": {},
     "output_type": "execute_result"
    }
   ],
   "source": [
    "def fact(n):\n",
    "    if n == 0:\n",
    "        print('Could not count factorial for negative number.')\n",
    "    elif n ==1:\n",
    "        return 1\n",
    "    else:\n",
    "        return n * fact(n-1)\n",
    "\n",
    "fact(int(input()))\n"
   ]
  },
  {
   "cell_type": "markdown",
   "metadata": {},
   "source": [
    "12)Implement a recursive function to compute the nth Fibonacci number.\n"
   ]
  },
  {
   "cell_type": "code",
   "execution_count": 47,
   "metadata": {},
   "outputs": [
    {
     "data": {
      "text/plain": [
       "8"
      ]
     },
     "execution_count": 47,
     "metadata": {},
     "output_type": "execute_result"
    }
   ],
   "source": [
    "def fibonacci(n):\n",
    "    if n <= 1:\n",
    "        return 1\n",
    "    else:\n",
    "        return fibonacci(n-1) + fibonacci(n-2)\n",
    "\n",
    "fibonacci(int(input()))\n",
    " "
   ]
  },
  {
   "cell_type": "markdown",
   "metadata": {},
   "source": [
    "13)Create a recursive function to find the sum of all the elements in a given list."
   ]
  },
  {
   "cell_type": "code",
   "execution_count": 48,
   "metadata": {},
   "outputs": [
    {
     "data": {
      "text/plain": [
       "15"
      ]
     },
     "execution_count": 48,
     "metadata": {},
     "output_type": "execute_result"
    }
   ],
   "source": [
    "def list_sum(list1):\n",
    "    if len(list1) == 1:\n",
    "        return list1[0]\n",
    "    else:\n",
    "        return list1[0] + list_sum(list1[1:])\n",
    "    \n",
    "list_sum([1,2,3,4,5,])"
   ]
  },
  {
   "cell_type": "markdown",
   "metadata": {},
   "source": [
    "14). Write a recursive function to determine whether a given string is a palindrome."
   ]
  },
  {
   "cell_type": "code",
   "execution_count": 50,
   "metadata": {},
   "outputs": [
    {
     "name": "stdout",
     "output_type": "stream",
     "text": [
      "String 282 is palindrome\n"
     ]
    }
   ],
   "source": [
    "def palindrome(string1):\n",
    "    if len(string1) < 1:\n",
    "        return True\n",
    "    else:\n",
    "        if string1[0] == string1[-1]:\n",
    "            return palindrome(string1[1:-1])\n",
    "        else:\n",
    "            return False\n",
    "        \n",
    "string1 = input('enter string :')\n",
    "\n",
    "if(palindrome(string1) == True):\n",
    "    print(f'String {string1} is palindrome')\n",
    "else:\n",
    "    print(f'String {string1} is not a palindrome')"
   ]
  },
  {
   "cell_type": "markdown",
   "metadata": {},
   "source": [
    "15)Implement a recursive function to find the greatest common divisor (GCD) of two positive integers."
   ]
  },
  {
   "cell_type": "code",
   "execution_count": 52,
   "metadata": {},
   "outputs": [
    {
     "data": {
      "text/plain": [
       "4"
      ]
     },
     "execution_count": 52,
     "metadata": {},
     "output_type": "execute_result"
    }
   ],
   "source": [
    "def gcd(x,y):\n",
    "    if x==y:\n",
    "        return x\n",
    "    elif x < y:\n",
    "        return gcd(y,x)\n",
    "    else:\n",
    "        return gcd(y, x-y)\n",
    "    \n",
    "gcd(36,16)"
   ]
  },
  {
   "cell_type": "code",
   "execution_count": null,
   "metadata": {},
   "outputs": [],
   "source": []
  }
 ],
 "metadata": {
  "kernelspec": {
   "display_name": "base",
   "language": "python",
   "name": "python3"
  },
  "language_info": {
   "codemirror_mode": {
    "name": "ipython",
    "version": 3
   },
   "file_extension": ".py",
   "mimetype": "text/x-python",
   "name": "python",
   "nbconvert_exporter": "python",
   "pygments_lexer": "ipython3",
   "version": "3.11.3"
  }
 },
 "nbformat": 4,
 "nbformat_minor": 2
}
