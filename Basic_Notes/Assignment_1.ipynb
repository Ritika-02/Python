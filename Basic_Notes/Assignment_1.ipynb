{
 "cells": [
  {
   "cell_type": "markdown",
   "id": "dd1c1290-ea26-45cd-a622-800a66705e78",
   "metadata": {},
   "source": [
    "Assignment_1"
   ]
  },
  {
   "cell_type": "markdown",
   "id": "b9df1b97-8af9-49c2-800c-9fb06311c2ae",
   "metadata": {},
   "source": [
    "1)In the below elements which of them are values or an expression? eg:- values can be integer or string and expressions will be mathematical operators.\n",
    "* 'hello' -87.8 - / + 6 \n",
    "\n",
    "--> values: 'hello', -87.8, 6\n",
    "    expressions: *,-,/,+\n",
    "    Therefore, there are total of 3 values and 4 expressions."
   ]
  },
  {
   "cell_type": "markdown",
   "id": "e8ffc2dd-5169-434a-ad9f-96120643ffa6",
   "metadata": {},
   "source": [
    "2)What is the difference between string and variable?\n",
    "\n",
    "--> String is a single character or  a group of characters enclosed in single     quotes ' ' or double quotes \" \".\n",
    "    Variable is used to store  a information.\n",
    "    Thus, String is a type of information you would store in a Variable."
   ]
  },
  {
   "cell_type": "markdown",
   "id": "b43a3ec7-fd42-48a1-8725-f55529dc8ce5",
   "metadata": {},
   "source": [
    "3)Describe three different data types.\n",
    "\n",
    "-->Datatypes are int,float and Complex.\n",
    "    Int: It is used to represent whole numbers(Integral).\n",
    "         int_no = 1234\n",
    "    Float: It is used to represent floating point values(Decimal numbers).\n",
    "           float_nov= 12.3e4\n",
    "    Complex: It is represented as complex class.(real value + imaginary   value(j)).\n",
    "             com_no = 12 +34j"
   ]
  },
  {
   "cell_type": "markdown",
   "id": "55d82ad5-d6ab-4155-8080-c3541775f089",
   "metadata": {},
   "source": [
    "4)What is an expression made up of? What do all expressions do?\n",
    "\n",
    "-->It is a combination of numbers,operators or values which calls to function.\n",
    "    Expressions are need to be evaluated before displaying a result.\n",
    "    ex: (50 - 10 + 20)...evaluates to  20."
   ]
  },
  {
   "cell_type": "markdown",
   "id": "6ef10fb7-3a24-4d77-865d-af2383a97b19",
   "metadata": {},
   "source": [
    "5)This assignment statements, like spam = 10. What is the difference between an expression and a statement?\n",
    "\n",
    "-->Expression is combination of numbers,operators or values which calls to    function.Expressions are need to be evaluated before displaying a result.\n",
    "    ex: (50 - 10 + 20)...evaluates to  20.\n",
    "    Statement has an effect like creating a variable or displaying a content. Statements dont have values.\n",
    "    ex: ace = \"Data Science Program\""
   ]
  },
  {
   "cell_type": "markdown",
   "id": "5987bff4-e24a-4898-93d6-d9ca9982dbd5",
   "metadata": {},
   "source": [
    "6)After running the following code, what does the variable bacon contain?\n",
    "bacon = 22\n",
    "bacon + 1\n",
    "\n",
    "--> bacon = 22\n",
    "    bacon + 1\n",
    "    print(bacon)\n",
    "    22\n",
    "    The expression bacon + 1 does not reassign the value in bacon."
   ]
  },
  {
   "cell_type": "code",
   "execution_count": 2,
   "id": "a12e0b35-920c-4b18-bd10-60e418817ad1",
   "metadata": {},
   "outputs": [
    {
     "name": "stdout",
     "output_type": "stream",
     "text": [
      "22\n"
     ]
    }
   ],
   "source": [
    "bacon = 22\n",
    "bacon + 1\n",
    "print(bacon)"
   ]
  },
  {
   "cell_type": "markdown",
   "id": "a50d1ef3-8905-4bde-b142-c737b51c7ab0",
   "metadata": {},
   "source": [
    "7)What should the values of the following two terms be?\n",
    "'spam' + 'spamspam'\n",
    "'spam' * 3\n",
    "\n",
    "-->print('spam' + 'spamspam')\n",
    "   spamspamspam ......String Conactenation\n",
    "    \n",
    "   print('spam' * 3)\n",
    "   spamspamspam .......String Multiplication\n",
    "    "
   ]
  },
  {
   "cell_type": "code",
   "execution_count": 3,
   "id": "f7be205e-df28-4cb2-bfb3-75e01807e8d0",
   "metadata": {},
   "outputs": [
    {
     "name": "stdout",
     "output_type": "stream",
     "text": [
      "spamspamspam\n",
      "spamspamspam\n"
     ]
    }
   ],
   "source": [
    "print('spam' + 'spamspam')\n",
    "print('spam' * 3)"
   ]
  },
  {
   "cell_type": "markdown",
   "id": "8fe1648d-f48b-49f5-b084-69e1b0d1867d",
   "metadata": {},
   "source": [
    "8)Why is eggs a valid variable name while 100 is invalid?\n",
    "\n",
    "-->In python, variable name cannot start with numbers.\n",
    "    Rules for naming a variable are :\n",
    "    Variable name must start with a letter or the underscore character.\n",
    "    Variable name cannot start with a number.\n",
    "    Variable name can only contain alpha-numeric characters and underscores (A-z, 0-9, & _ ).\n",
    "    Variable names are case-sensitive (name, INEURON and ineuron are three different variables).\n",
    "    The reserved words(keywords) cannot be used naming the variable.\n",
    "    Thus, as per the above rules eggs is a valid variable and 100 is not .\n"
   ]
  },
  {
   "cell_type": "code",
   "execution_count": 4,
   "id": "3f4d0b34-4e55-4846-8ccc-d01ab1e6afcd",
   "metadata": {},
   "outputs": [],
   "source": [
    "eggs = 'Hey'"
   ]
  },
  {
   "cell_type": "code",
   "execution_count": 5,
   "id": "52b7c30a-8085-476a-842d-4c2504440d36",
   "metadata": {},
   "outputs": [
    {
     "ename": "SyntaxError",
     "evalue": "cannot assign to literal here. Maybe you meant '==' instead of '='? (3999886313.py, line 1)",
     "output_type": "error",
     "traceback": [
      "\u001b[0;36m  Cell \u001b[0;32mIn [5], line 1\u001b[0;36m\u001b[0m\n\u001b[0;31m    100 = 'Hey'\u001b[0m\n\u001b[0m    ^\u001b[0m\n\u001b[0;31mSyntaxError\u001b[0m\u001b[0;31m:\u001b[0m cannot assign to literal here. Maybe you meant '==' instead of '='?\n"
     ]
    }
   ],
   "source": [
    "100 = 'Hey'"
   ]
  },
  {
   "cell_type": "markdown",
   "id": "91bb15c0-81cf-43bc-9388-3fb595197ca8",
   "metadata": {},
   "source": [
    "9)What three functions can be used to get the integer, floating-point number, or string version of a value?\n",
    "\n",
    "--> int() for Integer, float() for Floating-point number and str() for String version.\n",
    "    Ex:"
   ]
  },
  {
   "cell_type": "code",
   "execution_count": 6,
   "id": "be1ef7e4-1abd-49cb-a8cf-8aa26895fc31",
   "metadata": {},
   "outputs": [
    {
     "name": "stdout",
     "output_type": "stream",
     "text": [
      "123\n",
      "123.0\n",
      "123\n"
     ]
    }
   ],
   "source": [
    "a = 123\n",
    "print(int(a))\n",
    "print(float(a))\n",
    "print(str(a))"
   ]
  },
  {
   "cell_type": "markdown",
   "id": "98155b44-9ef0-46b7-ad88-0fdf9fa271ca",
   "metadata": {},
   "source": [
    "10)Why does this expression cause an error? How can you fix it?\n",
    "'I have eaten ' + 99 + ' burritos.'\n",
    "\n",
    "-->This cause of error is because of number 99 which has to be typecasted as string before evaluation.\n",
    "    str(99)"
   ]
  },
  {
   "cell_type": "code",
   "execution_count": 7,
   "id": "154ce875-9b62-466e-a9e9-df40dd9c3c6b",
   "metadata": {},
   "outputs": [
    {
     "name": "stdout",
     "output_type": "stream",
     "text": [
      "I have eaten 99 burritos.\n"
     ]
    }
   ],
   "source": [
    "print('I have eaten ' + str(99) + ' burritos.')"
   ]
  },
  {
   "cell_type": "code",
   "execution_count": null,
   "id": "8fca0dec-ed97-4ac0-9b76-60b52e49325c",
   "metadata": {},
   "outputs": [],
   "source": []
  }
 ],
 "metadata": {
  "kernelspec": {
   "display_name": "Python 3 (ipykernel)",
   "language": "python",
   "name": "python3"
  },
  "language_info": {
   "codemirror_mode": {
    "name": "ipython",
    "version": 3
   },
   "file_extension": ".py",
   "mimetype": "text/x-python",
   "name": "python",
   "nbconvert_exporter": "python",
   "pygments_lexer": "ipython3",
   "version": "3.10.6"
  }
 },
 "nbformat": 4,
 "nbformat_minor": 5
}
